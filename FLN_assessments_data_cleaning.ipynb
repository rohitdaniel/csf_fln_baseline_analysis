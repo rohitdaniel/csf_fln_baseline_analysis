{
 "cells": [
  {
   "cell_type": "code",
   "execution_count": 1,
   "id": "21d30864",
   "metadata": {
    "scrolled": false
   },
   "outputs": [],
   "source": [
    "%load_ext rpy2.ipython\n",
    "%load_ext autoreload\n",
    "import pandas as pd\n",
    "import numpy as np\n",
    "from datetime import datetime, timedelta\n",
    "import regex as re\n",
    "import matplotlib.pyplot as plt\n",
    "import matplotlib.patches as mpatches\n",
    "import seaborn as sns\n",
    "import os\n",
    "import sys\n",
    "from datetime import datetime\n",
    "pd.set_option('display.max_columns', None)\n",
    "pd.set_option('display.max_rows', None)"
   ]
  },
  {
   "cell_type": "code",
   "execution_count": 2,
   "id": "a2599e0d",
   "metadata": {},
   "outputs": [],
   "source": [
    "from data_cleaning import *"
   ]
  },
  {
   "cell_type": "markdown",
   "id": "57dc1f04",
   "metadata": {},
   "source": [
    "# Merge raw data files"
   ]
  },
  {
   "cell_type": "code",
   "execution_count": 3,
   "id": "b18d9b7f",
   "metadata": {},
   "outputs": [],
   "source": [
    "# Rename colmns in old CSV file to facilitate concatenation\n",
    "# old_cols = set(mp_raw_1.columns).difference(set(mp_raw_2.columns)) # Create list of columns that needs to be renamed\n",
    "\n",
    "# new_cols = [re.search('^.+(?=\\.\\w+$)', col).group(0) for col in old_cols] # Create list of new names for the columns\n",
    "\n",
    "# rename_cols = {} # Initialize dictionary to store old and new column names\n",
    "\n",
    "# for old_col, new_col in zip(old_cols, new_cols):\n",
    "#     rename_cols[old_col] = new_col\n",
    "\n",
    "# mp_raw_1.rename(columns=rename_cols, inplace=True)"
   ]
  },
  {
   "cell_type": "code",
   "execution_count": 4,
   "id": "3b6b00b0",
   "metadata": {},
   "outputs": [],
   "source": [
    "# mp_fix_labels = {'school_details.UDISE_cd_label': {23310607203: 23310607101, 23310607802: 23310601105, 23310613802: 23310601104}, \\\n",
    "#                         'school_details.School_label': {'NMS SANKLA JAGTHAR': 'PS JAGTHAR', 'MS SANOTI':'EGS SALAIYAPURA', 'EGS TAPRA KACHHI': 'EGS KHARI TAPRA'}}\n",
    "\n",
    "# mp_mask_idx = mp_raw.index[mp_raw.assessment_date == '2022-10-10']\n",
    "# mp_raw.loc[mask_idx, :] = mp_raw.loc[mp_mask_idx, :].replace(mp_fix_labels)\n",
    "\n",
    "# up_fix_labels = {'school_details.UDISE_cd_label': {9691406101: 9691405001}, \\\n",
    "#                  'school_details.School_label': {'P.S. SANDWA': 'P.S. DHAURUPUR'}}\n",
    "\n",
    "# up_mask = ((up_raw.assessment_date == '2022-10-21') & ((up_raw.tabletUserName == 'Munish')  | (up_raw.tabletUserName == 'Poonamkumari')))\n",
    "# up_mask_idx = up_raw.index[up_mask]\n",
    "\n",
    "# up_raw.loc[up_mask_idx, :] = up_raw.loc[up_mask_idx, :].replace(up_fix_labels)"
   ]
  },
  {
   "cell_type": "markdown",
   "id": "30efec0c",
   "metadata": {},
   "source": [
    "# Data Cleaning Functions"
   ]
  },
  {
   "cell_type": "code",
   "execution_count": 5,
   "id": "cc58014b",
   "metadata": {},
   "outputs": [],
   "source": [
    "def outlier_treatment(dataframe, score_col):\n",
    "    iqr = np.percentile(dataframe[score_col], 75) - np.percentile(dataframe[score_col], 25)\n",
    "    outliers = dataframe[dataframe[score_col] >= 1.5*iqr]\n",
    "    return (outliers)"
   ]
  },
  {
   "cell_type": "markdown",
   "id": "c706d84c",
   "metadata": {},
   "source": [
    "# Import merged raw data file"
   ]
  },
  {
   "cell_type": "code",
   "execution_count": 6,
   "id": "0260949f",
   "metadata": {},
   "outputs": [],
   "source": [
    "%autoreload\n",
    "# Change working directory\n",
    "os.chdir(r'/home/rohitdaniel/Documents/CSF_FLN_Evaluation/SLO_Baseline/rawData')\n",
    "\n",
    "# Import concatenated raw dataframe for cleaning\n",
    "mp_raw = pd.read_pickle(\"./mp_raw_full.pkl\")\n",
    "mp_raw.name = 'mp_raw'\n",
    "\n",
    "up_raw = pd.read_pickle(\"./up_raw_full.pkl\")\n",
    "up_raw.name = 'up_raw'"
   ]
  },
  {
   "cell_type": "markdown",
   "id": "fffd9eff",
   "metadata": {},
   "source": [
    "## A. Literacy Sub-tasks Data Cleaning"
   ]
  },
  {
   "cell_type": "code",
   "execution_count": 7,
   "id": "668df679",
   "metadata": {},
   "outputs": [],
   "source": [
    "%autoreload\n",
    "mp_raw_lit, mp_raw_num = data_cleaning.clean_data(mp_raw)\n",
    "mp_raw_lit.name = 'MP literacy'\n",
    "mp_raw_num.name = 'MP numeracy'"
   ]
  },
  {
   "cell_type": "code",
   "execution_count": 8,
   "id": "5f4663c3",
   "metadata": {},
   "outputs": [],
   "source": [
    "%autoreload\n",
    "up_raw_lit, up_raw_num = data_cleaning.clean_data(up_raw)\n",
    "up_raw_lit.name = 'UP literacy'\n",
    "up_raw_num.name = 'UP numeracy'"
   ]
  },
  {
   "cell_type": "code",
   "execution_count": 9,
   "id": "d0c2a10f",
   "metadata": {},
   "outputs": [],
   "source": [
    "for dataframe in [mp_raw_lit, up_raw_lit]:\n",
    "    duration_cols = [col for col in dataframe.columns if re.search(r'.+time_remaining$', col)]\n",
    "    data_cleaning.clean_scores(dataframe, duration_cols)"
   ]
  },
  {
   "cell_type": "code",
   "execution_count": 10,
   "id": "83716e28",
   "metadata": {},
   "outputs": [],
   "source": [
    "pid_cols = ['tabletUserName', 'assessment_date', 'school_details.State_label',\\\n",
    "            'school_details.District_label', 'school_details.Block_label',\\\n",
    "            'school_details.School_label', 'school_details.UDISE_cd_label',\\\n",
    "            'SI_std_name', 'GI_std_name', 'student_age', 'student_gender'] \n",
    "rename_cols = {'tabletUserName':'evaluator_name', 'school_details.State_label':'state',\\\n",
    "               'school_details.District_label':'district', 'school_details.Block_label':'block',\\\n",
    "               'school_details.School_label':'school_name', 'school_details.UDISE_cd_label':'udise',\\\n",
    "               'SI_std_name':'student_name', 'GI_std_name':'student_roll'}\n",
    "mp_lit_scores = mp_raw_lit[pid_cols].rename(columns=rename_cols)\n",
    "up_lit_scores = up_raw_lit[pid_cols].rename(columns=rename_cols)"
   ]
  },
  {
   "cell_type": "markdown",
   "id": "9c515b03",
   "metadata": {},
   "source": [
    "### Literacy 1: Listening Comprehension"
   ]
  },
  {
   "cell_type": "code",
   "execution_count": 11,
   "id": "0fd492da",
   "metadata": {},
   "outputs": [],
   "source": [
    "%autoreload\n",
    "lit1_or_sheets_mp = pd.ExcelFile(r\"../cleaned_data/mp_literacy1_other_responses_vf.xlsx\")\n",
    "data_cleaning.correct_or(mp_raw_lit, lit1_or_sheets_mp)"
   ]
  },
  {
   "cell_type": "code",
   "execution_count": 12,
   "id": "74c55172",
   "metadata": {},
   "outputs": [],
   "source": [
    "%autoreload\n",
    "lit1_or_sheets_up = pd.ExcelFile(r\"../cleaned_data/up_literacy1_other_responses_vf.xlsx\")\n",
    "data_cleaning.correct_or(up_raw_lit, lit1_or_sheets_up)"
   ]
  },
  {
   "cell_type": "code",
   "execution_count": 13,
   "id": "0baf40c1",
   "metadata": {},
   "outputs": [],
   "source": [
    "for dataframe in {'mp': [mp_raw_lit, mp_lit_scores], 'up': [up_raw_lit, up_lit_scores]}.values():\n",
    "    lit1_raw = [col for col in dataframe[0].columns if re.search(r'literacy1_q\\d$', col)]\n",
    "#     print(f'\\033[1mCleaning literacy {dataframe[0].name} subtask 1 scores\\033[0m')\n",
    "    data_cleaning.clean_scores(dataframe[0], lit1_raw)\n",
    "       \n",
    "    # Calculate total score and percentage correct on listening comprehension sub-task\n",
    "    dataframe[1].loc[:, 'listening_comprehension_total'] = dataframe[0].apply(lambda x: calculations.total_score([x[col] for col in lit1_raw]), axis=1)\n",
    "    dataframe[1].loc[:, 'listening_comprehension_%_correct'] = dataframe[1].apply(lambda x: 100*x['listening_comprehension_total']/len(lit1_raw), axis=1)\n",
    "    \n",
    "#     # Extract other responses to listening comprehension questions\n",
    "#     lit1_or = [col for col in dataframe.columns if re.search(r'^literacy1_\\S*or$', col)]\n",
    "#     file_name = dataframe.name + '_lit1_or.xlsx'\n",
    "#     with pd.ExcelWriter(file_name) as writer: \n",
    "#         for col in lit1_or:\n",
    "#             dataframe[col].value_counts().reset_index().rename(columns = {'index':\"Response\", col:'Frequency'}).to_excel(writer, sheet_name=col)"
   ]
  },
  {
   "cell_type": "markdown",
   "id": "1447294b",
   "metadata": {},
   "source": [
    "<h3>\n",
    "    Literacy 2: Oral Vocabulary\n",
    "</h3>"
   ]
  },
  {
   "cell_type": "code",
   "execution_count": 14,
   "id": "4a6bd543",
   "metadata": {},
   "outputs": [],
   "source": [
    "%autoreload\n",
    "lit2_or_sheets_mp = pd.ExcelFile(r\"../cleaned_data/mp_literacy2_other_responses_vf.xlsx\")\n",
    "data_cleaning.correct_or(mp_raw_lit, lit2_or_sheets_mp)"
   ]
  },
  {
   "cell_type": "code",
   "execution_count": 15,
   "id": "822c5297",
   "metadata": {},
   "outputs": [],
   "source": [
    "%autoreload\n",
    "lit2_or_sheets_up = pd.ExcelFile(r\"../cleaned_data/up_literacy2_other_responses_vf.xlsx\")\n",
    "data_cleaning.correct_or(up_raw_lit, lit2_or_sheets_up)"
   ]
  },
  {
   "cell_type": "code",
   "execution_count": 16,
   "id": "76ded100",
   "metadata": {},
   "outputs": [],
   "source": [
    "# Check data for'UNDEFINED' or 'SKIPPED' values\n",
    "for dataframe in {'mp': [mp_raw_lit, mp_lit_scores], 'up': [up_raw_lit, up_lit_scores]}.values():\n",
    "    lit2_raw = [col for col in dataframe[0].columns if re.search(r'literacy2_q\\d+$', col)]\n",
    "#     print(f'\\033[1mCleaning literacy {dataframe[0].name} subtask 2 scores\\033[0m')\n",
    "    data_cleaning.clean_scores(dataframe[0], lit2_raw)\n",
    "        \n",
    "    dataframe[1].loc[:, 'oral_vocabulary_total'] = dataframe[0].apply(lambda x: calculations.total_score([x[col] for col in lit2_raw]), axis=1)\n",
    "    dataframe[1].loc[:, 'oral_vocabulary_%_correct'] = dataframe[1].apply(lambda x: 100*x['oral_vocabulary_total']/len(lit2_raw), axis=1)\n",
    "    \n",
    "#     # Extract other responses to oral vocabulary questions\n",
    "#     lit2_or = [col for col in dataframe.columns if re.search(r'literacy2\\S*or$', col)]\n",
    "#     file_name = dataframe.name + '_lit2_or.xlsx'\n",
    "#     with pd.ExcelWriter(file_name) as writer: \n",
    "#         for col in lit2_or:\n",
    "#             dataframe[col].value_counts().reset_index().rename(columns = {'index':\"Response\", col:'Frequency'}).to_excel(writer, sheet_name=col)"
   ]
  },
  {
   "cell_type": "markdown",
   "id": "99538b38",
   "metadata": {},
   "source": [
    "<h3>\n",
    "    Literacy 3: Initial Sound Identification\n",
    "</h3>"
   ]
  },
  {
   "cell_type": "code",
   "execution_count": 17,
   "id": "ca10182c",
   "metadata": {},
   "outputs": [],
   "source": [
    "# Check data for'UNDEFINED' or 'SKIPPED' values\n",
    "for dataframe in {'mp': [mp_raw_lit, mp_lit_scores], 'up': [up_raw_lit, up_lit_scores]}.values():\n",
    "    lit3_raw = [col for col in dataframe[0].columns if re.search(r'literacy3_q\\d+$', col)]\n",
    "#     print(f'\\033[1mCleaning literacy {dataframe.name} subtask 3 scores\\033[0m')\n",
    "    data_cleaning.clean_scores(dataframe[0], lit3_raw)\n",
    "    \n",
    "    dataframe[1].loc[:, 'initial_sound_identification_total'] = dataframe[0].apply(lambda x: calculations.total_score([x[col] for col in lit3_raw]), axis=1)\n",
    "    dataframe[1].loc[:, 'initial_sound_identification_%_correct'] = dataframe[1].apply(lambda x: 100*x['initial_sound_identification_total']/len(lit3_raw), axis=1)"
   ]
  },
  {
   "cell_type": "markdown",
   "id": "1dbdf2e3",
   "metadata": {},
   "source": [
    "<h3>\n",
    "    Literacy 4: Letter Naming (Untimed)\n",
    "</h3>"
   ]
  },
  {
   "cell_type": "code",
   "execution_count": 18,
   "id": "4064c924",
   "metadata": {},
   "outputs": [],
   "source": [
    "# Check data for'UNDEFINED' or 'SKIPPED' values\n",
    "for dataframe in {'mp': [mp_raw_lit, mp_lit_scores], 'up': [up_raw_lit, up_lit_scores]}.values():\n",
    "    lit4_ut_raw = [col for col in dataframe[0].columns if re.search(r'literacy4_ut_grid_\\d*$', col)]\n",
    "#     print(f'\\033[1mCleaning literacy {dataframe[0].name} subtask 4 (untimed) scores\\033[0m')\n",
    "    data_cleaning.clean_scores(dataframe[0], lit4_ut_raw)\n",
    "    dataframe[0].loc[:, lit4_ut_raw] = pd.DataFrame((dataframe[0].apply(lambda x: data_cleaning.fix_scores([x[col] for col in lit4_ut_raw]), axis=1)).to_list(), index=dataframe[0].index, columns=lit4_ut_raw)\n",
    "    \n",
    "    # Calculate total score on letter naming (untimed) sub-task\n",
    "    dataframe[1].loc[:, 'letter_naming_untimed_total'] = dataframe[0].apply(lambda x: calculations.total_score([x[score] for score in lit4_ut_raw]), axis=1)\n",
    "    dataframe[1].loc[:, 'letter_naming_untimed_%_correct'] = dataframe[1].apply(lambda x: 100*x['letter_naming_untimed_total']/len(lit4_ut_raw), axis=1)"
   ]
  },
  {
   "cell_type": "markdown",
   "id": "a6e898db",
   "metadata": {},
   "source": [
    "### Literacy 4: Letter Naming (Timed)"
   ]
  },
  {
   "cell_type": "code",
   "execution_count": 19,
   "id": "fde54e58",
   "metadata": {},
   "outputs": [],
   "source": [
    "%autoreload\n",
    "# Check data for 'UNDEFINED' or 'SKIPPED' values\n",
    "for dataframe in {'mp': [mp_raw_lit, mp_lit_scores], 'up': [up_raw_lit, up_lit_scores]}.values():\n",
    "    lit4_tt_raw = [col for col in dataframe[0].columns if re.search(r'literacy4_tt.+', col)]\n",
    "    lit4_tt_scores = [col for col in dataframe[0].columns if re.search(r'literacy4_tt_grid_\\d+$', col)]\n",
    "\n",
    "    # print(f'\\033[1mCleaning literacy {dataframe[0].name} subtask 4 (timed) scores\\033[0m')\n",
    "    data_cleaning.clean_scores(dataframe[0], lit4_tt_scores)\n",
    "    dataframe[0].loc[:, lit4_tt_scores] = pd.DataFrame((dataframe[0].apply(lambda x: data_cleaning.fix_scores([x[col] for col in lit4_tt_scores]), axis=1)).to_list(), index=dataframe[0].index, columns=lit4_tt_scores)\n",
    "    # Calculate automaticity on letter naming (timed) sub-task\n",
    "    dataframe[1].loc[:, 'letter_naming_timed_fluency'] = dataframe[0].apply(lambda x: calculations.fluency_score(x, lit4_tt_raw), axis=1)"
   ]
  },
  {
   "cell_type": "markdown",
   "id": "afcf0858",
   "metadata": {},
   "source": [
    "<h3>\n",
    "    Literacy 5: Familiar Words Reading (Untimed)\n",
    "</h3>"
   ]
  },
  {
   "cell_type": "code",
   "execution_count": 20,
   "id": "eef5fbb5",
   "metadata": {},
   "outputs": [],
   "source": [
    "# Check data for 'UNDEFINED' or 'SKIPPED' values\n",
    "for dataframe in {'mp': [mp_raw_lit, mp_lit_scores], 'up': [up_raw_lit, up_lit_scores]}.values():\n",
    "    lit5_ut_raw = [col for col in dataframe[0].columns if re.search(r'literacy5_ut_grid_\\d*$', col)]\n",
    "#     print(f'\\033[1mCleaning literacy {dataframe[0].name} subtask 5 (untimed) scores\\033[0m')\n",
    "    data_cleaning.clean_scores(dataframe[0], lit5_ut_raw)\n",
    "    dataframe[0].loc[:, lit5_ut_raw] = pd.DataFrame((dataframe[0].apply(lambda x: data_cleaning.fix_scores([x[col] for col in lit5_ut_raw]), axis=1)).to_list(), index=dataframe[0].index, columns=lit5_ut_raw)\n",
    "    \n",
    "    dataframe[1].loc[:, 'familiar_words_untimed_total'] = dataframe[0].apply(lambda x: calculations.total_score([x[score] for score in lit5_ut_raw]), axis=1)\n",
    "    dataframe[1].loc[:, 'familiar_words_untimed_%_correct'] = dataframe[1].apply(lambda x: 100*x['familiar_words_untimed_total']/len(lit5_ut_raw), axis=1)"
   ]
  },
  {
   "cell_type": "markdown",
   "id": "d5bedc45",
   "metadata": {},
   "source": [
    "<h3>\n",
    "    Literacy 5: Familiar Words Reading (Timed)\n",
    "</h3>"
   ]
  },
  {
   "cell_type": "code",
   "execution_count": 21,
   "id": "cbb6ac79",
   "metadata": {},
   "outputs": [],
   "source": [
    "# Check data for 'UNDEFINED' or 'SKIPPED' values\n",
    "for dataframe in {'mp': [mp_raw_lit, mp_lit_scores], 'up': [up_raw_lit, up_lit_scores]}.values():\n",
    "    lit5_tt_raw = [col for col in dataframe[0].columns if re.search(r'literacy5_tt.+', col)]\n",
    "    lit5_tt_scores = [col for col in dataframe[0].columns if re.search(r'literacy5_tt_grid_\\d+$', col)]\n",
    "\n",
    "    # print(f'\\033[1mCleaning literacy {dataframe[0].name} subtask 5 (timed) scores\\033[0m')\n",
    "    data_cleaning.clean_scores(dataframe[0], lit5_tt_scores)\n",
    "    dataframe[0].loc[:, lit5_tt_scores] = pd.DataFrame((dataframe[0].apply(lambda x: data_cleaning.fix_scores([x[col] for col in lit5_tt_scores]), axis=1)).to_list(), index=dataframe[0].index, columns=lit5_tt_scores)\n",
    "    \n",
    "    # Calculate automaticity on letter naming (timed) sub-task\n",
    "    dataframe[1].loc[:, 'familiar_words_timed_fluency'] = dataframe[0].apply(lambda x: calculations.fluency_score(x, lit5_tt_raw), axis=1)"
   ]
  },
  {
   "cell_type": "markdown",
   "id": "86a8a8ed",
   "metadata": {},
   "source": [
    "### Literacy 6: Non-word Reading"
   ]
  },
  {
   "cell_type": "code",
   "execution_count": 22,
   "id": "b139ec0a",
   "metadata": {},
   "outputs": [],
   "source": [
    "# Check data for 'UNDEFINED' or 'SKIPPED' values\n",
    "for dataframe in {'mp': [mp_raw_lit, mp_lit_scores], 'up': [up_raw_lit, up_lit_scores]}.values():\n",
    "    lit6_tt_raw = [col for col in dataframe[0].columns if re.search(r'literacy6_tt.+', col)]\n",
    "    lit6_tt_scores = [col for col in dataframe[0].columns if re.search(r'literacy6_tt_grid_\\d+$', col)]\n",
    "    #     print(f'\\033[1mCleaning literacy {dataframe[0].name} subtask 6 scores\\033[0m')\n",
    "    data_cleaning.clean_scores(dataframe[0], lit6_tt_scores)\n",
    "    dataframe[0].loc[:, lit6_tt_scores] = pd.DataFrame((dataframe[0].apply(lambda x: data_cleaning.fix_scores([x[col] for col in lit6_tt_scores]), axis=1)).to_list(), index=dataframe[0].index, columns=lit6_tt_scores)\n",
    "    \n",
    "    # Calculate automaticity on letter naming (timed) sub-task\n",
    "    dataframe[1].loc[:, 'non_words_timed_fluency'] = dataframe[0].apply(lambda x: calculations.fluency_score(x, lit6_tt_raw), axis=1)"
   ]
  },
  {
   "cell_type": "markdown",
   "id": "565f8552",
   "metadata": {},
   "source": [
    "### Literacy 7: Oral Reading Fluency (Timed)"
   ]
  },
  {
   "cell_type": "code",
   "execution_count": 23,
   "id": "edc708eb",
   "metadata": {},
   "outputs": [],
   "source": [
    "# Check data for 'UNDEFINED' or 'SKIPPPED' values\n",
    "for dataframe in {'mp': [mp_raw_lit, mp_lit_scores], 'up': [up_raw_lit, up_lit_scores]}.values():\n",
    "    lit7_raw = [col for col in dataframe[0].columns if re.search(r'literacy7_tt.+', col)]\n",
    "    lit7_scores = [col for col in dataframe[0].columns if re.search(r'literacy7_tt_grid_\\d+$', col)]\n",
    "    \n",
    "    # print(f'\\033[1mCleaning literacy {dataframe[0].name} subtask 7 scores\\033[0m')\n",
    "    data_cleaning.clean_scores(dataframe[0], lit7_scores)\n",
    "    dataframe[0].loc[:, lit7_scores] = pd.DataFrame((dataframe[0].apply(lambda x: data_cleaning.fix_scores([x[col] for col in lit7_scores]), axis=1)).to_list(), index=dataframe[0].index, columns=lit7_scores)\n",
    "    \n",
    "     # Calculate automaticity on letter naming (timed) sub-task\n",
    "    dataframe[1].loc[:, 'oral_reading_fluency'] = dataframe[0].apply(lambda x: calculations.fluency_score(x, lit7_raw), axis=1)"
   ]
  },
  {
   "cell_type": "markdown",
   "id": "cf897678",
   "metadata": {},
   "source": [
    "### Literacy 8: Reading Comprehension (Untimed)"
   ]
  },
  {
   "cell_type": "code",
   "execution_count": 24,
   "id": "9d58965d",
   "metadata": {},
   "outputs": [],
   "source": [
    "# Check data for 'UNDEFINED' or 'SKIPPPED' values\n",
    "for dataframe in {'mp': [mp_raw_lit, mp_lit_scores], 'up': [up_raw_lit, up_lit_scores]}.values():\n",
    "    lit8_raw_reading = [col for col in dataframe[0].columns if re.search(r'literacy8_ut_grid_\\d*$', col)]\n",
    "    lit8_raw_comprehension = [col for col in dataframe[0].columns if re.search(r'literacy8_ut_q\\d*$', col)]\n",
    "#     print(f'\\033[1mCleaning literacy {dataframe[0].name} subtask 8 scores\\033[0m')\n",
    "    for scores in [lit8_raw_reading, lit8_raw_comprehension]:\n",
    "        data_cleaning.clean_scores(dataframe[0], scores)\n",
    "    dataframe[0].loc[:, lit8_raw_reading] = pd.DataFrame((dataframe[0].apply(lambda x: data_cleaning.fix_scores([x[col] for col in lit8_raw_reading]), axis=1)).to_list(), index=dataframe[0].index, columns=lit8_raw_reading)\n",
    "    \n",
    "    dataframe[1].loc[:, 'reading_untimed_total'] = dataframe[0].apply(lambda x: calculations.total_score([x[score] for score in lit8_raw_reading]), axis=1)\n",
    "    dataframe[1].loc[:, 'reading_untimed_%_correct'] = dataframe[1].apply(lambda x: 100*x['reading_untimed_total']/len(lit8_raw_reading), axis=1)\n",
    "    dataframe[1].loc[:, 'reading_comprehension_untimed_total'] = dataframe[0].apply(lambda x: calculations.total_score([x[score] for score in lit8_raw_comprehension]), axis=1)\n",
    "    dataframe[1].loc[:, 'reading_comprehension_untimed_%_correct'] = dataframe[1].apply(lambda x: 100*x['reading_comprehension_untimed_total']/len(lit8_raw_comprehension), axis=1)"
   ]
  },
  {
   "cell_type": "markdown",
   "id": "b484360c",
   "metadata": {},
   "source": [
    "### Literacy 9a: Dictation (Letters)"
   ]
  },
  {
   "cell_type": "code",
   "execution_count": 25,
   "id": "dd09711e",
   "metadata": {},
   "outputs": [],
   "source": [
    "# Check data for 'UNDEFINED' or 'SKIPPPED' values\n",
    "for dataframe in {'mp': [mp_raw_lit, mp_lit_scores], 'up': [up_raw_lit, up_lit_scores]}.values():\n",
    "    lit9a_raw = [col for col in dataframe[0].columns if re.search(r'literacy9a_ut_grid_\\d*', col)]\n",
    "#     print(f'\\033[1mCleaning literacy {dataframe[0].name} subtask 9a scores\\033[0m')\n",
    "    data_cleaning.clean_scores(dataframe[0], lit9a_raw)\n",
    "    dataframe[0].loc[:, lit9a_raw] = pd.DataFrame((dataframe[0].apply(lambda x: data_cleaning.fix_scores([x[col] for col in lit9a_raw]), axis=1)).to_list(), index=dataframe[0].index, columns=lit9a_raw)\n",
    "    dataframe[1].loc[:, 'dictation_letters_total'] = dataframe[0].apply(lambda x: calculations.total_score([x[score] for score in lit9a_raw]), axis=1)\n",
    "    dataframe[1].loc[:, 'dictation_letters_%_correct'] = dataframe[1].apply(lambda x: 100*x['dictation_letters_total']/len(lit9a_raw), axis=1)\n",
    "    # dataframe.loc[:, 'literacy9a_total'] = dataframe.apply(lambda x: validated_scores(x, mp_validated), axis=1)"
   ]
  },
  {
   "cell_type": "code",
   "execution_count": 26,
   "id": "9cd92d4f",
   "metadata": {
    "scrolled": false
   },
   "outputs": [],
   "source": [
    "# mp_dictation_letters_validation = mp_raw_lit[mp_raw_lit.literacy9a_total >= 5][['assessment_date', 'school_details.State_label', 'school_details.District_label', \\\n",
    "#                                               'school_details.Block_label', 'school_details.School_label', \\\n",
    "#                                               'school_details.UDISE_cd_label', 'SI_std_name', 'GI_std_name', 'student_age', \\\n",
    "#                                               'student_gender', 'literacy9a_total']]"
   ]
  },
  {
   "cell_type": "code",
   "execution_count": 27,
   "id": "0cbe4bcb",
   "metadata": {},
   "outputs": [],
   "source": [
    "# up_dictation_letters_validation = up_raw_lit[up_raw_lit.literacy9a_total >= 5][['assessment_date', 'school_details.State_label', 'school_details.District_label', \\\n",
    "#                                               'school_details.Block_label', 'school_details.School_label', \\\n",
    "#                                               'school_details.UDISE_cd_label', 'SI_std_name', 'GI_std_name', 'student_age', \\\n",
    "#                                               'student_gender', 'literacy9a_total']]"
   ]
  },
  {
   "cell_type": "markdown",
   "id": "34b15e80",
   "metadata": {},
   "source": [
    "### Literacy 9b: Dictation (Words)"
   ]
  },
  {
   "cell_type": "code",
   "execution_count": 28,
   "id": "812b56e0",
   "metadata": {
    "scrolled": true
   },
   "outputs": [],
   "source": [
    "# Check data for 'UNDEFINED' or 'SKIPPPED' values\n",
    "for dataframe in {'mp': [mp_raw_lit, mp_lit_scores], 'up': [up_raw_lit, up_lit_scores]}.values():\n",
    "    lit9b_raw = [col for col in dataframe[0].columns if re.search(r'literacy9b_ut_grid_\\d*', col)]\n",
    "#     print(f'\\033[1mCleaning literacy {dataframe[0].name} subtask 9b scores\\033[0m')\n",
    "    data_cleaning.clean_scores(dataframe[0], lit9b_raw)\n",
    "    dataframe[0].loc[:, lit9b_raw] = pd.DataFrame((dataframe[0].apply(lambda x: data_cleaning.fix_scores([x[col] for col in lit9b_raw]), axis=1)).to_list(), index=dataframe[0].index, columns=lit9b_raw)\n",
    "    \n",
    "    dataframe[1].loc[:, 'dictation_words_total'] = dataframe[0].apply(lambda x: calculations.total_score([x[score] for score in lit9b_raw]), axis=1)\n",
    "    dataframe[1].loc[:, 'dictation_words_%_correct'] = dataframe[1].apply(lambda x: 100*x['dictation_words_total']/len(lit9b_raw), axis=1)\n"
   ]
  },
  {
   "cell_type": "code",
   "execution_count": 29,
   "id": "abf32e35",
   "metadata": {},
   "outputs": [],
   "source": [
    "# mp_dictation_words_validation = mp_raw_lit[mp_raw_lit.literacy9b_total >= 5][['assessment_date', 'school_details.State_label', 'school_details.District_label', \\\n",
    "#                                               'school_details.Block_label', 'school_details.School_label', \\\n",
    "#                                               'school_details.UDISE_cd_label', 'SI_std_name', 'GI_std_name', 'student_age', \\\n",
    "#                                               'student_gender', 'literacy9b_total']]"
   ]
  },
  {
   "cell_type": "code",
   "execution_count": 30,
   "id": "e58faea0",
   "metadata": {},
   "outputs": [],
   "source": [
    "# up_dictation_words_validation = up_raw_lit[up_raw_lit.literacy9b_total >= 5][['assessment_date', 'school_details.State_label', 'school_details.District_label', \\\n",
    "#                                               'school_details.Block_label', 'school_details.School_label', \\\n",
    "#                                               'school_details.UDISE_cd_label', 'SI_std_name', 'GI_std_name', 'student_age', \\\n",
    "#                                               'student_gender', 'literacy9b_total']]"
   ]
  },
  {
   "cell_type": "code",
   "execution_count": 31,
   "id": "440c079a",
   "metadata": {},
   "outputs": [],
   "source": [
    "# mp_dictation_validation = pd.merge(left=mp_dictation_letters_validation, right=mp_dictation_words_validation, how='outer')\n",
    "# mp_dictation_validation.to_excel('mp_dictation_validation.xlsx')"
   ]
  },
  {
   "cell_type": "code",
   "execution_count": 32,
   "id": "89a238f7",
   "metadata": {},
   "outputs": [],
   "source": [
    "# up_dictation_validation = pd.merge(left=up_dictation_letters_validation, right=up_dictation_words_validation, how='outer')\n",
    "# up_dictation_validation.to_excel('up_dictation_validation.xlsx')"
   ]
  },
  {
   "cell_type": "code",
   "execution_count": 33,
   "id": "a0cc8063",
   "metadata": {},
   "outputs": [],
   "source": [
    "cols_renamed = {'tabletUserName': 'evaluator_name',\\\n",
    " 'assessment_date': 'assessment_date',\\\n",
    " 'school_details.State_label': 'state',\\\n",
    " 'school_details.District_label': 'district',\\\n",
    " 'school_details.Block_label': 'block',\\\n",
    " 'school_details.School_label': 'school_name',\\\n",
    " 'school_details.UDISE_cd_label': 'udise',\\\n",
    " 'SI_std_name': 'student_name',\\\n",
    " 'GI_std_name': 'student_roll',\\\n",
    " 'student_age': 'student_age',\\\n",
    " 'student_gender': 'student_gender',\\\n",
    " 'literacy1_q1': 'listening_comprehension: 1. इस कहानी में कौन-कौन से जानवर है?',\\\n",
    " 'literacy1_q1_or': 'listening_comprehension: 1. other_responses',\\\n",
    " 'literacy1_q2': 'listening_comprehension: 2. बिल्ली कहाँ रहती है?',\\\n",
    " 'literacy1_q2_or': 'listening_comprehension: 2. other_responses',\\\n",
    " 'literacy1_q3': 'listening_comprehension: 3. दूध पीते-पीते बिल्ली ने क्या देखा?',\\\n",
    " 'literacy1_q3_or': 'listening_comprehension: 3. other_responses',\\\n",
    " 'literacy1_q4': 'listening_comprehension: 4. चूहे को देखकर बिल्ली ने क्या किया?',\\\n",
    " 'literacy1_q4_or': 'listening_comprehension: 4. other_responses',\\\n",
    " 'literacy1_end': 'listening_comprehension: end',\\\n",
    " 'literacy2_p_q': 'oral_vocabulary_practice: बिल्ली',\\\n",
    " 'literacy2_q1': 'oral_vocabulary: 1. घर',\\\n",
    " 'literacy2_q1_or': 'oral_vocabulary: 1. other_responses',\\\n",
    " 'literacy2_q2': 'oral_vocabulary: 2. पतंग',\\\n",
    " 'literacy2_q2_or': 'oral_vocabulary: 2. other_responses',\\\n",
    " 'literacy2_q3': 'oral_vocabulary: 3. बक्सा/ खोखा',\\\n",
    " 'literacy2_q3_or': 'oral_vocabulary: 3. other_responses',\\\n",
    " 'literacy2_q4': 'oral_vocabulary: 4. किताब/पुस्तक/बुक',\\\n",
    " 'literacy2_q4_or': 'oral_vocabulary: 4. other_responses',\\\n",
    " 'literacy2_q5': 'oral_vocabulary: 5. छाता/छतरी',\\\n",
    " 'literacy2_q5_or': 'oral_vocabulary: 5. other_responses',\\\n",
    " 'literacy2_q6': 'oral_vocabulary: 6. मटका/घड़ा/टोकनी',\\\n",
    " 'literacy2_q6_or': 'oral_vocabulary: 6. other_responses',\\\n",
    " 'literacy2_q7': 'oral_vocabulary: 7. लड़का सो रहा है/नींद/सो जाना',\\\n",
    " 'literacy2_q7_or': 'oral_vocabulary: 7. other_responses',\\\n",
    " 'literacy2_q8': 'oral_vocabulary: 8. लड़की खाना खा रही है/खाना',\\\n",
    " 'literacy2_q8_or': 'oral_vocabulary: 8. other_responses',\\\n",
    " 'literacy2_q9': 'oral_vocabulary: 9. लड़की किताब पढ़ रही है\\पुस्तक पढ़ रही है\\पढ़ना',\\\n",
    " 'literacy2_q9_or': 'oral_vocabulary: 9. other_responses',\\\n",
    " 'literacy2_q10': 'oral_vocabulary: 10. लड़का साइकिल चला रहा है',\\\n",
    " 'literacy2_q10_or': 'oral_vocabulary: 10. other_responses',\\\n",
    " 'literacy2_end': 'oral_vocabulary: end',\\\n",
    " 'literacy3_p_q1': 'initial_sound_recognition_practice: चल',\\\n",
    " 'literacy3_p_q2': 'initial_sound_recognition_practice: सब',\\\n",
    " 'literacy3_q1': 'initial_sound_recognition: आम',\\\n",
    " 'literacy3_q2': 'initial_sound_recognition: 2. रथ',\\\n",
    " 'literacy3_q3': 'initial_sound_recognition: 3. एक',\\\n",
    " 'literacy3_q4': 'initial_sound_recognition: 4. पल',\\\n",
    " 'literacy3_q5': 'initial_sound_recognition: 5. ऊँट',\\\n",
    " 'literacy3_q6': 'initial_sound_recognition: 6. ईंट',\\\n",
    " 'literacy3_q7': 'initial_sound_recognition: 7. घात',\\\n",
    " 'literacy3_q8': 'initial_sound_recognition: 8. कप',\\\n",
    " 'literacy3_q9': 'initial_sound_recognition: 9. तोता',\\\n",
    " 'literacy3_q10': 'initial_sound_recognition: 10. झरना',\\\n",
    " 'literacy3_end': 'initial_sound_identification: end',\n",
    " 'literacy4_p_q1': 'letter_naming_practice: प',\\\n",
    " 'literacy4_p_q2': 'letter_naming_practice: भ',\\\n",
    " 'literacy4_ut_grid_1': 'letter_naming_untimed: 1. ह',\\\n",
    " 'literacy4_ut_grid_2': 'letter_naming_untimed: 2. स',\\\n",
    " 'literacy4_ut_grid_3': 'letter_naming_untimed: 3. य',\\\n",
    " 'literacy4_ut_grid_4': 'letter_naming_untimed: 4. ध',\\\n",
    " 'literacy4_ut_grid_5': 'letter_naming_untimed: 5. आ',\\\n",
    " 'literacy4_ut_grid_6': 'letter_naming_untimed: 6. फ',\\\n",
    " 'literacy4_ut_grid_7': 'letter_naming_untimed: 7. त्र',\\\n",
    " 'literacy4_ut_grid_8': 'letter_naming_untimed: 8. छ',\\\n",
    " 'literacy4_ut_grid_9': 'letter_naming_untimed: 9. उ',\\\n",
    " 'literacy4_ut_grid_10': 'letter_naming_untimed: 10. ख',\\\n",
    " 'literacy4_ut_grid_11': 'letter_naming_untimed: 11. क्ष',\\\n",
    " 'literacy4_ut_grid_12': 'letter_naming_untimed: 12. ज्ञ',\\\n",
    " 'literacy4_ut_grid_13': 'letter_naming_untimed: 13. ई',\\\n",
    " 'literacy4_ut_grid_14': 'letter_naming_untimed: 14. वु',\\\n",
    " 'literacy4_ut_grid_15': 'letter_naming_untimed: 15. मे',\\\n",
    " 'literacy4_ut_grid.number_of_items_correct': 'letter_naming_untimed: number_of_items_correct',\\\n",
    " 'literacy4_ut_grid.number_of_items_attempted': 'letter_naming_untimed: number_of_items_attempted',\\\n",
    " 'literacy4_ut_grid.gridAutoStopped': 'letter_naming_untimed: gridAutoStopped',\\\n",
    " 'literacy4_ut_grid.autoStop': 'letter_naming_untimed: autoStop',\\\n",
    " 'literacy4_ut_end': 'letter_naming_untimed: end',\\\n",
    " 'literacy4_tt_grid_1': 'letter_naming_timed: 1. म',\\\n",
    " 'literacy4_tt_grid_2': 'letter_naming_timed: 2. न',\\\n",
    " 'literacy4_tt_grid_3': 'letter_naming_timed: 3. प',\\\n",
    " 'literacy4_tt_grid_4': 'letter_naming_timed: 4. ट',\\\n",
    " 'literacy4_tt_grid_5': 'letter_naming_timed: 5. क',\\\n",
    " 'literacy4_tt_grid_6': 'letter_naming_timed: 6. त',\\\n",
    " 'literacy4_tt_grid_7': 'letter_naming_timed: 7. प',\\\n",
    " 'literacy4_tt_grid_8': 'letter_naming_timed: 8. ब',\\\n",
    " 'literacy4_tt_grid_9': 'letter_naming_timed: 9. ल',\\\n",
    " 'literacy4_tt_grid_10': 'letter_naming_timed: 10. य',\\\n",
    " 'literacy4_tt_grid_11': 'letter_naming_timed: 11. ट',\\\n",
    " 'literacy4_tt_grid_12': 'letter_naming_timed: 12. ड',\\\n",
    " 'literacy4_tt_grid_13': 'letter_naming_timed: 13. ए',\\\n",
    " 'literacy4_tt_grid_14': 'letter_naming_timed: 14. त',\\\n",
    " 'literacy4_tt_grid_15': 'letter_naming_timed: 15. छ',\\\n",
    " 'literacy4_tt_grid_16': 'letter_naming_timed: 16. द',\\\n",
    " 'literacy4_tt_grid_17': 'letter_naming_timed: 17. अ',\\\n",
    " 'literacy4_tt_grid_18': 'letter_naming_timed: 18. ए',\\\n",
    " 'literacy4_tt_grid_19': 'letter_naming_timed: 19. र',\\\n",
    " 'literacy4_tt_grid_20': 'letter_naming_timed: 20. ह',\\\n",
    " 'literacy4_tt_grid_21': 'letter_naming_timed: 21. प',\\\n",
    " 'literacy4_tt_grid_22': 'letter_naming_timed: 22. ई',\\\n",
    " 'literacy4_tt_grid_23': 'letter_naming_timed: 23. आ',\\\n",
    " 'literacy4_tt_grid_24': 'letter_naming_timed: 24. न',\\\n",
    " 'literacy4_tt_grid_25': 'letter_naming_timed: 25. र',\\\n",
    " 'literacy4_tt_grid_26': 'letter_naming_timed: 26. घ',\\\n",
    " 'literacy4_tt_grid_27': 'letter_naming_timed: 27. अ',\\\n",
    " 'literacy4_tt_grid_28': 'letter_naming_timed: 28. भ',\\\n",
    " 'literacy4_tt_grid_29': 'letter_naming_timed: 29. व',\\\n",
    " 'literacy4_tt_grid_30': 'letter_naming_timed: 30. ब',\\\n",
    " 'literacy4_tt_grid_31': 'letter_naming_timed: 31. क',\\\n",
    " 'literacy4_tt_grid_32': 'letter_naming_timed: 32. उ',\\\n",
    " 'literacy4_tt_grid_33': 'letter_naming_timed: 33. च',\\\n",
    " 'literacy4_tt_grid_34': 'letter_naming_timed: 34. ऊ',\\\n",
    " 'literacy4_tt_grid_35': 'letter_naming_timed: 35. ट',\\\n",
    " 'literacy4_tt_grid_36': 'letter_naming_timed: 36. स',\\\n",
    " 'literacy4_tt_grid_37': 'letter_naming_timed: 37. ग',\\\n",
    " 'literacy4_tt_grid_38': 'letter_naming_timed: 38. ढ',\\\n",
    " 'literacy4_tt_grid_39': 'letter_naming_timed: 39. न',\\\n",
    " 'literacy4_tt_grid_40': 'letter_naming_timed: 40. ख',\\\n",
    " 'literacy4_tt_grid_41': 'letter_naming_timed: 41. ए',\\\n",
    " 'literacy4_tt_grid_42': 'letter_naming_timed: 42. ज',\\\n",
    " 'literacy4_tt_grid_43': 'letter_naming_timed: 43. ध',\\\n",
    " 'literacy4_tt_grid_44': 'letter_naming_timed: 44. इ',\\\n",
    " 'literacy4_tt_grid_45': 'letter_naming_timed: 45. ल',\\\n",
    " 'literacy4_tt_grid_46': 'letter_naming_timed: 46. आ',\\\n",
    " 'literacy4_tt_grid_47': 'letter_naming_timed: 47. ठ',\\\n",
    " 'literacy4_tt_grid_48': 'letter_naming_timed: 48. म',\\\n",
    " 'literacy4_tt_grid_49': 'letter_naming_timed: 49. न',\\\n",
    " 'literacy4_tt_grid_50': 'letter_naming_timed: 50. इ',\\\n",
    " 'literacy4_tt_grid_51': 'letter_naming_timed: 51. थ',\\\n",
    " 'literacy4_tt_grid_52': 'letter_naming_timed: 52. श',\\\n",
    " 'literacy4_tt_grid_53': 'letter_naming_timed: 53. अ',\\\n",
    " 'literacy4_tt_grid_54': 'letter_naming_timed: 54. फ',\\\n",
    " 'literacy4_tt_grid_55': 'letter_naming_timed: 55. त',\\\n",
    " 'literacy4_tt_grid_56': 'letter_naming_timed: 56. ऊ',\\\n",
    " 'literacy4_tt_grid_57': 'letter_naming_timed: 57. ऐ',\\\n",
    " 'literacy4_tt_grid_58': 'letter_naming_timed: 58. का',\\\n",
    " 'literacy4_tt_grid_59': 'letter_naming_timed: 59. मौ',\\\n",
    " 'literacy4_tt_grid_60': 'letter_naming_timed: 60. तू',\\\n",
    " 'literacy4_tt_grid_61': 'letter_naming_timed: 61. बि',\\\n",
    " 'literacy4_tt_grid_62': 'letter_naming_timed: 62. वू',\\\n",
    " 'literacy4_tt_grid_63': 'letter_naming_timed: 63. ते',\\\n",
    " 'literacy4_tt_grid_64': 'letter_naming_timed: 64. पो',\\\n",
    " 'literacy4_tt_grid_65': 'letter_naming_timed: 65. की',\\\n",
    " 'literacy4_tt_grid_66': 'letter_naming_timed: 66. तु',\\\n",
    " 'literacy4_tt_grid_67': 'letter_naming_timed: 67. रो',\\\n",
    " 'literacy4_tt_grid_68': 'letter_naming_timed: 68. हो',\\\n",
    " 'literacy4_tt_grid_69': 'letter_naming_timed: 69. नै',\\\n",
    " 'literacy4_tt_grid_70': 'letter_naming_timed: 70. नी',\\\n",
    " 'literacy4_tt_grid_71': 'letter_naming_timed: 71. गा',\\\n",
    " 'literacy4_tt_grid_72': 'letter_naming_timed: 72. मि',\\\n",
    " 'literacy4_tt_grid_73': 'letter_naming_timed: 73. ण',\\\n",
    " 'literacy4_tt_grid_74': 'letter_naming_timed: 74. औ',\\\n",
    " 'literacy4_tt_grid_75': 'letter_naming_timed: 75. त्र',\\\n",
    " 'literacy4_tt_grid_76': 'letter_naming_timed: 76. ज्ञ',\\\n",
    " 'literacy4_tt_grid_77': 'letter_naming_timed: 77. क्ष',\\\n",
    " 'literacy4_tt_grid_78': 'letter_naming_timed: 78. झ',\\\n",
    " 'literacy4_tt_grid_79': 'letter_naming_timed: 79. ऋ',\\\n",
    " 'literacy4_tt_grid_80': 'letter_naming_timed: 80. ण',\\\n",
    " 'literacy4_tt_grid.duration': 'letter_naming_timed: duration',\\\n",
    " 'literacy4_tt_grid.time_remaining': 'letter_naming_timed: time_remaining',\\\n",
    " 'literacy4_tt_grid.gridAutoStopped': 'letter_naming_timed: gridAutoStopped',\\\n",
    " 'literacy4_tt_grid.autoStop': 'letter_naming_timed: autoStop',\\\n",
    " 'literacy4_tt_grid.item_at_time': 'letter_naming_timed: item_at_time',\\\n",
    " 'literacy4_tt_grid.time_intermediate_captured': 'letter_naming_timed: time_intermediate_captured',\\\n",
    " 'literacy4_tt_grid.number_of_items_correct': 'letter_naming_timed: number_of_items_correct',\\\n",
    " 'literacy4_tt_grid.number_of_items_attempted': 'letter_naming_timed: number_of_items_attempted',\\\n",
    " 'literacy4_tt_grid.items_per_minute': 'letter_naming_timed: items_per_minute',\\\n",
    " 'literacy4_tt_end': 'letter_naming_timed: end',\\\n",
    " 'literacy5_p_q1': 'familiar_words_practice: मन',\\\n",
    " 'literacy5_p_q2': 'familiar_words_practice: कप',\\\n",
    " 'literacy5_ut_grid_1': 'familiar_words_untimed: 1. एक',\\\n",
    " 'literacy5_ut_grid_2': 'familiar_words_untimed: 2. चल',\\\n",
    " 'literacy5_ut_grid_3': 'familiar_words_untimed: 3. बाल',\\\n",
    " 'literacy5_ut_grid_4': 'familiar_words_untimed: 4. बतख',\\\n",
    " 'literacy5_ut_grid_5': 'familiar_words_untimed: 5. उछल',\\\n",
    " 'literacy5_ut_grid_6': 'familiar_words_untimed: 6. रंग',\\\n",
    " 'literacy5_ut_grid_7': 'familiar_words_untimed: 7. छाता',\\\n",
    " 'literacy5_ut_grid_8': 'familiar_words_untimed: 8. मेरा',\\\n",
    " 'literacy5_ut_grid_9': 'familiar_words_untimed: 9. जूठी',\\\n",
    " 'literacy5_ut_grid_10': 'familiar_words_untimed: 10. लड़का',\\\n",
    " 'literacy5_ut_grid_11': 'familiar_words_untimed: 11. बेटी',\\\n",
    " 'literacy5_ut_grid_12': 'familiar_words_untimed: 12. छड़ी',\\\n",
    " 'literacy5_ut_grid_13': 'familiar_words_untimed: 13. बादल',\\\n",
    " 'literacy5_ut_grid_14': 'familiar_words_untimed: 14. पपीता',\\\n",
    " 'literacy5_ut_grid_15': 'familiar_words_untimed: 15. अम्मा',\\\n",
    " 'literacy5_ut_grid.number_of_items_correct': 'familiar_words_untimed: number_of_items_correct',\\\n",
    " 'literacy5_ut_grid.number_of_items_attempted': 'familiar_words_untimed: number_of_items_attempted',\\\n",
    " 'literacy5_ut_grid.gridAutoStopped': 'familiar_words_untimed: gridAutoStopped',\\\n",
    " 'literacy5_ut_grid.autoStop': 'familiar_words_untimed: autoStop',\\\n",
    " 'literacy5_ut_end': 'familiar_words_untimed: end',\\\n",
    " 'literacy5_tt_grid_1': 'familiar_words_timed: 1. घर',\\\n",
    " 'literacy5_tt_grid_2': 'familiar_words_timed: 2. पल',\\\n",
    " 'literacy5_tt_grid_3': 'familiar_words_timed: 3. कल',\\\n",
    " 'literacy5_tt_grid_4': 'familiar_words_timed: 4. एक',\\\n",
    " 'literacy5_tt_grid_5': 'familiar_words_timed: 5. तब',\\\n",
    " 'literacy5_tt_grid_6': 'familiar_words_timed: 6. हम',\\\n",
    " 'literacy5_tt_grid_7': 'familiar_words_timed: 7. बस',\\\n",
    " 'literacy5_tt_grid_8': 'familiar_words_timed: 8. उस',\\\n",
    " 'literacy5_tt_grid_9': 'familiar_words_timed: 9. मन',\\\n",
    " 'literacy5_tt_grid_10': 'familiar_words_timed: 10. रथ',\\\n",
    " 'literacy5_tt_grid_11': 'familiar_words_timed: 11. अब',\\\n",
    " 'literacy5_tt_grid_12': 'familiar_words_timed: 12. छत',\\\n",
    " 'literacy5_tt_grid_13': 'familiar_words_timed: 13. वन',\\\n",
    " 'literacy5_tt_grid_14': 'familiar_words_timed: 14. नल',\\\n",
    " 'literacy5_tt_grid_15': 'familiar_words_timed: 15. चख',\\\n",
    " 'literacy5_tt_grid_16': 'familiar_words_timed: 16. आम',\\\n",
    " 'literacy5_tt_grid_17': 'familiar_words_timed: 17. सात',\\\n",
    " 'literacy5_tt_grid_18': 'familiar_words_timed: 18. गाल',\\\n",
    " 'literacy5_tt_grid_19': 'familiar_words_timed: 19. काम',\\\n",
    " 'literacy5_tt_grid_20': 'familiar_words_timed: 20. हाथ',\\\n",
    " 'literacy5_tt_grid_21': 'familiar_words_timed: 21. हरा',\\\n",
    " 'literacy5_tt_grid_22': 'familiar_words_timed: 22. बीज',\\\n",
    " 'literacy5_tt_grid_23': 'familiar_words_timed: 23. सिर',\\\n",
    " 'literacy5_tt_grid_24': 'familiar_words_timed: 24.तारा',\\\n",
    " 'literacy5_tt_grid_25': 'familiar_words_timed: 25. गिन',\\\n",
    " 'literacy5_tt_grid_26': 'familiar_words_timed: 26. सेब',\\\n",
    " 'literacy5_tt_grid_27': 'familiar_words_timed: 27. दिन',\\\n",
    " 'literacy5_tt_grid_28': 'familiar_words_timed: 28. खाना',\\\n",
    " 'literacy5_tt_grid_29': 'familiar_words_timed: 29. नदी',\\\n",
    " 'literacy5_tt_grid_30': 'familiar_words_timed: 30. नीम',\\\n",
    " 'literacy5_tt_grid_31': 'familiar_words_timed: 31. काला',\\\n",
    " 'literacy5_tt_grid_32': 'familiar_words_timed: 32. खेल',\\\n",
    " 'literacy5_tt_grid_33': 'familiar_words_timed: 33. मेरा',\\\n",
    " 'literacy5_tt_grid_34': 'familiar_words_timed: 34. पानी',\\\n",
    " 'literacy5_tt_grid_35': 'familiar_words_timed: 35. डाली',\\\n",
    " 'literacy5_tt_grid_36': 'familiar_words_timed: 36. नमन',\\\n",
    " 'literacy5_tt_grid_37': 'familiar_words_timed: 37. हिंदी',\\\n",
    " 'literacy5_tt_grid_38': 'familiar_words_timed: 38. उसका',\\\n",
    " 'literacy5_tt_grid_39': 'familiar_words_timed: 39. गाँव',\\\n",
    " 'literacy5_tt_grid_40': 'familiar_words_timed: 40. अमर',\\\n",
    " 'literacy5_tt_grid_41': 'familiar_words_timed: 41. उछल',\\\n",
    " 'literacy5_tt_grid_42': 'familiar_words_timed: 42. पपीता',\\\n",
    " 'literacy5_tt_grid_43': 'familiar_words_timed: 43. हमारा ',\\\n",
    " 'literacy5_tt_grid_44': 'familiar_words_timed: 44. अंदर',\\\n",
    " 'literacy5_tt_grid_45': 'familiar_words_timed: 45. जगह',\\\n",
    " 'literacy5_tt_grid_46': 'familiar_words_timed: 46. पतंग',\\\n",
    " 'literacy5_tt_grid_47': 'familiar_words_timed: 47. लड़का',\\\n",
    " 'literacy5_tt_grid_48': 'familiar_words_timed: 48. गणित',\\\n",
    " 'literacy5_tt_grid_49': 'familiar_words_timed: 49. हिस्सा',\\\n",
    " 'literacy5_tt_grid_50': 'familiar_words_timed: 50. तलवार',\\\n",
    " 'literacy5_tt_grid.duration': 'familiar_words_timed: duration',\\\n",
    " 'literacy5_tt_grid.time_remaining': 'familiar_words_timed: time_remaining',\\\n",
    " 'literacy5_tt_grid.gridAutoStopped': 'familiar_words_timed: gridAutoStopped',\\\n",
    " 'literacy5_tt_grid.autoStop': 'familiar_words_timed: autoStop',\\\n",
    " 'literacy5_tt_grid.item_at_time': 'familiar_words_timed: item_at_time',\\\n",
    " 'literacy5_tt_grid.time_intermediate_captured': 'familiar_words_timed: time_intermediate_captured',\\\n",
    " 'literacy5_tt_grid.number_of_items_correct': 'familiar_words_timed: number_of_items_correct',\\\n",
    " 'literacy5_tt_grid.number_of_items_attempted': 'familiar_words_timed: number_of_items_attempted',\\\n",
    " 'literacy5_tt_grid.items_per_minute': 'familiar_words_timed: items_per_minute',\\\n",
    " 'literacy5_tt_end': 'familiar_words_timed: end',\\\n",
    " 'literacy6_p_q1': 'non_words_practice: मब',\\\n",
    " 'literacy6_p_q2': 'non_words_practice: कग',\\\n",
    " 'literacy6_tt_grid_1': 'non_words: 1. टेब',\\\n",
    " 'literacy6_tt_grid_2': 'non_words: 2. रज',\\\n",
    " 'literacy6_tt_grid_3': 'non_words: 3. एट',\\\n",
    " 'literacy6_tt_grid_4': 'non_words: 4. कग',\\\n",
    " 'literacy6_tt_grid_5': 'non_words: 5. अन',\\\n",
    " 'literacy6_tt_grid_6': 'non_words: 6. नुप',\\\n",
    " 'literacy6_tt_grid_7': 'non_words: 7. डिट',\\\n",
    " 'literacy6_tt_grid_8': 'non_words: 8. लेब',\\\n",
    " 'literacy6_tt_grid_9': 'non_words: 9. गक',\\\n",
    " 'literacy6_tt_grid_10': 'non_words: 10. ईल',\\\n",
    " 'literacy6_tt_grid_11': 'non_words: 11. मक',\\\n",
    " 'literacy6_tt_grid_12': 'non_words: 12. रल',\\\n",
    " 'literacy6_tt_grid_13': 'non_words: 13. नेप',\\\n",
    " 'literacy6_tt_grid_14': 'non_words: 14. जक',\\\n",
    " 'literacy6_tt_grid_15': 'non_words: 15. मुप',\\\n",
    " 'literacy6_tt_grid_16': 'non_words: 16. तग',\\\n",
    " 'literacy6_tt_grid_17': 'non_words: 17. वुज',\\\n",
    " 'literacy6_tt_grid_18': 'non_words: 18. टर',\\\n",
    " 'literacy6_tt_grid_19': 'non_words: 19. मप',\\\n",
    " 'literacy6_tt_grid_20': 'non_words: 20. इम',\\\n",
    " 'literacy6_tt_grid_21': 'non_words: 21. सान',\\\n",
    " 'literacy6_tt_grid_22': 'non_words: 22. दोव',\\\n",
    " 'literacy6_tt_grid_23': 'non_words: 23. याग',\\\n",
    " 'literacy6_tt_grid_24': 'non_words: 24. टिक',\\\n",
    " 'literacy6_tt_grid_25': 'non_words: 25. किब',\\\n",
    " 'literacy6_tt_grid_26': 'non_words: 26. माब',\\\n",
    " 'literacy6_tt_grid_27': 'non_words: 27. गाक',\\\n",
    " 'literacy6_tt_grid_28': 'non_words: 28. टोब',\\\n",
    " 'literacy6_tt_grid_29': 'non_words: 29. हिग',\\\n",
    " 'literacy6_tt_grid_30': 'non_words: 30. नास',\\\n",
    " 'literacy6_tt_grid_31': 'non_words: 31. किब',\\\n",
    " 'literacy6_tt_grid_32': 'non_words: 32. अप',\\\n",
    " 'literacy6_tt_grid_33': 'non_words: 33. ऊग',\\\n",
    " 'literacy6_tt_grid_34': 'non_words: 34. तिग',\\\n",
    " 'literacy6_tt_grid_35': 'non_words: 35. कन',\\\n",
    " 'literacy6_tt_grid_36': 'non_words: 36. मिक',\\\n",
    " 'literacy6_tt_grid_37': 'non_words: 37. मोक',\\\n",
    " 'literacy6_tt_grid_38': 'non_words: 38. अला',\\\n",
    " 'literacy6_tt_grid_39': 'non_words: 39. वता',\\\n",
    " 'literacy6_tt_grid_40': 'non_words: 40. टोस',\\\n",
    " 'literacy6_tt_grid_41': 'non_words: 41. वानाको',\\\n",
    " 'literacy6_tt_grid_42': 'non_words: 42. इमारि',\\\n",
    " 'literacy6_tt_grid_43': 'non_words: 43. उलापू',\\\n",
    " 'literacy6_tt_grid_44': 'non_words: 44. औपसी',\\\n",
    " 'literacy6_tt_grid_45': 'non_words: 45. हितोसु',\\\n",
    " 'literacy6_tt_grid_46': 'non_words: 46. कीगामी',\\\n",
    " 'literacy6_tt_grid_47': 'non_words: 47. ओकमे',\\\n",
    " 'literacy6_tt_grid_48': 'non_words: 48. तरजम',\\\n",
    " 'literacy6_tt_grid_49': 'non_words: 49. प्रनार',\\\n",
    " 'literacy6_tt_grid_50': 'non_words: 50. मलकोप',\\\n",
    " 'literacy6_tt_grid.duration': 'non_words: duration',\\\n",
    " 'literacy6_tt_grid.time_remaining': 'non_words: time_remaining',\\\n",
    " 'literacy6_tt_grid.gridAutoStopped': 'non_words: gridAutoStopped',\\\n",
    " 'literacy6_tt_grid.autoStop': 'non_words: autoStop',\\\n",
    " 'literacy6_tt_grid.item_at_time': 'non_words: item_at_time',\\\n",
    " 'literacy6_tt_grid.time_intermediate_captured': 'non_words: time_intermediate_captured',\\\n",
    " 'literacy6_tt_grid.number_of_items_correct': 'non_words: number_of_items_correct',\\\n",
    " 'literacy6_tt_grid.number_of_items_attempted': 'non_words: number_of_items_attempted',\\\n",
    " 'literacy6_tt_grid.items_per_minute': 'non_words: items_per_minute',\\\n",
    " 'literacy6_end': 'non_words: end',\\\n",
    " 'literacy7_p_q1': 'orf_timed_practice: अब सुबह होगी',\\\n",
    " 'literacy7_tt_grid_1': 'orf_timed: 1. एक',\\\n",
    " 'literacy7_tt_grid_2': 'orf_timed: 2. चींटी',\\\n",
    " 'literacy7_tt_grid_3': 'orf_timed: 3. और',\\\n",
    " 'literacy7_tt_grid_4': 'orf_timed: 4. एक',\\\n",
    " 'literacy7_tt_grid_5': 'orf_timed: 5. कबूतर',\\\n",
    " 'literacy7_tt_grid_6': 'orf_timed: 6. दोस्त',\\\n",
    " 'literacy7_tt_grid_7': 'orf_timed: 7. थे',\\\n",
    " 'literacy7_tt_grid_8': 'orf_timed: 8. एक',\\\n",
    " 'literacy7_tt_grid_9': 'orf_timed: 9. दिन',\\\n",
    " 'literacy7_tt_grid_10': 'orf_timed: 10. चींटी',\\\n",
    " 'literacy7_tt_grid_11': 'orf_timed: 11. नदी',\\\n",
    " 'literacy7_tt_grid_12': 'orf_timed: 12. के',\\\n",
    " 'literacy7_tt_grid_13': 'orf_timed: 13. किनारे',\\\n",
    " 'literacy7_tt_grid_14': 'orf_timed: 14. खेल',\\\n",
    " 'literacy7_tt_grid_15': 'orf_timed: 15. रही',\\\n",
    " 'literacy7_tt_grid_16': 'orf_timed: 16. थी',\\\n",
    " 'literacy7_tt_grid_17': 'orf_timed: 17. तभी',\\\n",
    " 'literacy7_tt_grid_18': 'orf_timed: 18. वह',\\\n",
    " 'literacy7_tt_grid_19': 'orf_timed: 19. फिसल',\\\n",
    " 'literacy7_tt_grid_20': 'orf_timed: 20. कर',\\\n",
    " 'literacy7_tt_grid_21': 'orf_timed: 21. नदी',\\\n",
    " 'literacy7_tt_grid_22': 'orf_timed: 22. में',\\\n",
    " 'literacy7_tt_grid_23': 'orf_timed: 23. गिर',\\\n",
    " 'literacy7_tt_grid_24': 'orf_timed: 24. गई',\\\n",
    " 'literacy7_tt_grid_25': 'orf_timed: 25. कबूतर',\\\n",
    " 'literacy7_tt_grid_26': 'orf_timed: 26. ने',\\\n",
    " 'literacy7_tt_grid_27': 'orf_timed: 27. उसे',\\\n",
    " 'literacy7_tt_grid_28': 'orf_timed: 28. बचाने',\\\n",
    " 'literacy7_tt_grid_29': 'orf_timed: 29. के',\\\n",
    " 'literacy7_tt_grid_30': 'orf_timed: 30. लिए',\\\n",
    " 'literacy7_tt_grid_31': 'orf_timed: 31. एक',\\\n",
    " 'literacy7_tt_grid_32': 'orf_timed: 32. पत्ती',\\\n",
    " 'literacy7_tt_grid_33': 'orf_timed: 33. नदी',\\\n",
    " 'literacy7_tt_grid_34': 'orf_timed: 34. में',\\\n",
    " 'literacy7_tt_grid_35': 'orf_timed: 35. डाली',\\\n",
    " 'literacy7_tt_grid_36': 'orf_timed: 36. चींटी',\\\n",
    " 'literacy7_tt_grid_37': 'orf_timed: 37. उस',\\\n",
    " 'literacy7_tt_grid_38': 'orf_timed: 38. पत्ती',\\\n",
    " 'literacy7_tt_grid_39': 'orf_timed: 39. को',\\\n",
    " 'literacy7_tt_grid_40': 'orf_timed: 40. पकड़',\\\n",
    " 'literacy7_tt_grid_41': 'orf_timed: 41. कर',\\\n",
    " 'literacy7_tt_grid_42': 'orf_timed: 42. बच',\\\n",
    " 'literacy7_tt_grid_43': 'orf_timed: 43. गयी',\\\n",
    " 'literacy7_tt_grid.duration': 'ord_timed: duration',\\\n",
    " 'literacy7_tt_grid.time_remaining': 'orf_timed: time_remaining',\\\n",
    " 'literacy7_tt_grid.gridAutoStopped': 'orf_timed: gridAutoStopped',\\\n",
    " 'literacy7_tt_grid.autoStop': 'orf_timed: autoStop',\\\n",
    " 'literacy7_tt_grid.item_at_time': 'orf_timed: item_at_time',\\\n",
    " 'literacy7_tt_grid.time_intermediate_captured': 'orf_timed: time_intermediate_captured',\\\n",
    " 'literacy7_tt_grid.number_of_items_correct': 'orf_timed: number_of_items_correct',\\\n",
    " 'literacy7_tt_grid.number_of_items_attempted': 'orf_timed: number_of_items_attempted',\\\n",
    " 'literacy7_tt_grid.items_per_minute': 'orf_timed: items_per_minute',\\\n",
    " 'literacy7_tt_q1': 'orf_timed: शब्दों को अक्षर में तोड़कर पढ़ा',\\\n",
    " 'literacy7_tt_q2': 'orf_timed: कुछ शब्दों को जोड़कर पढ़ा लेकिन पूरा वाक्य नहीं बना पाया',\\\n",
    " 'literacy7_tt_q3': 'orf_timed: शब्दों को जोड़कर पूरा वाक्य पढ़ा',\\\n",
    " 'literacy7_tt_q4': 'orf_timed: विराम चिन्ह समझकर पढ़ा',\\\n",
    " 'literacy7_end': 'orf_timed: end',\\\n",
    " 'literacy8_ut_grid_1': 'orf_untimed: 1. मिनी',\\\n",
    " 'literacy8_ut_grid_2': 'orf_untimed: 2. एक',\\\n",
    " 'literacy8_ut_grid_3': 'orf_untimed: 3. बिल्ली',\\\n",
    " 'literacy8_ut_grid_4': 'orf_untimed: 4. है।',\\\n",
    " 'literacy8_ut_grid_5': 'orf_untimed: 5. मिनी',\\\n",
    " 'literacy8_ut_grid_6': 'orf_untimed: 6. रोज़',\\\n",
    " 'literacy8_ut_grid_7': 'orf_untimed: 7. चूहा',\\\n",
    " 'literacy8_ut_grid_8': 'orf_untimed: 8. पकड़ती',\\\n",
    " 'literacy8_ut_grid_9': 'orf_untimed: 9. है।',\\\n",
    " 'literacy8_ut_grid_10': 'orf_untimed: 10. एक',\\\n",
    " 'literacy8_ut_grid_11': 'orf_untimed: 11. दिन',\\\n",
    " 'literacy8_ut_grid_12': 'orf_untimed: 12. मिनी',\\\n",
    " 'literacy8_ut_grid_13': 'orf_untimed: 13. चूहा',\\\n",
    " 'literacy8_ut_grid_14': 'orf_untimed: 14. नहीं',\\\n",
    " 'literacy8_ut_grid_15': 'orf_untimed: 15. पकड़',\\\n",
    " 'literacy8_ut_grid_16': 'orf_untimed: 16. पाई।',\\\n",
    " 'literacy8_ut_grid_17': 'orf_untimed: 17. वह',\\\n",
    " 'literacy8_ut_grid_18': 'orf_untimed: 18. भूखी',\\\n",
    " 'literacy8_ut_grid_19': 'orf_untimed: 19. थी।',\\\n",
    " 'literacy8_ut_grid_20': 'orf_untimed: 20. वह',\\\n",
    " 'literacy8_ut_grid_21': 'orf_untimed: 21. दूध',\\\n",
    " 'literacy8_ut_grid_22': 'orf_untimed: 22. पीने',\\\n",
    " 'literacy8_ut_grid_23': 'orf_untimed: 23. गई।',\\\n",
    " 'literacy8_ut_grid_24': 'orf_untimed: 24. रसोई',\\\n",
    " 'literacy8_ut_grid_25': 'orf_untimed: 25. में',\\\n",
    " 'literacy8_ut_grid_26': 'orf_untimed: 26. दूध',\\\n",
    " 'literacy8_ut_grid_27': 'orf_untimed: 27. मिला।',\\\n",
    " 'literacy8_ut_grid_28': 'orf_untimed: 28. मिनी',\\\n",
    " 'literacy8_ut_grid_29': 'orf_untimed: 29. सारा',\\\n",
    " 'literacy8_ut_grid_30': 'orf_untimed: 30. दूध',\\\n",
    " 'literacy8_ut_grid_31': 'orf_untimed: 31. पी',\\\n",
    " 'literacy8_ut_grid_32': 'orf_untimed: 32. गयी',\\\n",
    " 'literacy8_ut_grid_33': 'orf_untimed: 33. और',\\\n",
    " 'literacy8_ut_grid_34': 'orf_untimed: 34. ख़ुशी',\\\n",
    " 'literacy8_ut_grid_35': 'orf_untimed: 35. से',\\\n",
    " 'literacy8_ut_grid_36': 'orf_untimed: 36. चली',\\\n",
    " 'literacy8_ut_grid_37': 'orf_untimed: 37. गई।',\\\n",
    " 'literacy8_ut_grid.number_of_items_correct': 'orf_untimed: number_of_items_correct',\\\n",
    " 'literacy8_ut_grid.number_of_items_attempted': 'orf_untimed: number_of_items_attempted',\\\n",
    " 'literacy8_ut_grid.gridAutoStopped': 'orf_untimed: gridAutoStopped',\\\n",
    " 'literacy8_ut_grid.autoStop': 'orf_untimed: autoStop',\\\n",
    " 'literacy8_ut_q1': 'orf_untimed: 1. मिनी कौन है?',\\\n",
    " 'literacy8_ut_q2': 'orf_untimed: 2. मिनी को क्या अच्छा लगता है?',\\\n",
    " 'literacy8_ut_q3': 'orf_untimed: 3. वह दूध क्यों पीने लगी?',\\\n",
    " 'literacy8_ut_q4': 'orf_untimed: 4. क्या मिनी को दूध अच्छा लगता है?',\\\n",
    " 'literacy8_ut_q5': 'orf_untimed: 5. मिनी को दूध पीकर कैसा लगा?',\\\n",
    " 'literacy8_ut_q6': 'orf_untimed: 6. मिनी को दूध कहाँ मिला?',\\\n",
    " 'literacy8_end': 'orf_untimed: end',\\\n",
    " 'literacy9a_ut_grid_1': 'dictation_letters: 1. फ',\\\n",
    " 'literacy9a_ut_grid_2': 'dictation_letters: 2. छ',\\\n",
    " 'literacy9a_ut_grid_3': 'dictation_letters: 3. ह',\\\n",
    " 'literacy9a_ut_grid_4': 'dictation_letters: 4. थ',\\\n",
    " 'literacy9a_ut_grid_5': 'dictation_letters: 5. श',\\\n",
    " 'literacy9a_ut_grid_6': 'dictation_letters: 6. ज',\\\n",
    " 'literacy9a_ut_grid_7': 'dictation_letters: 7. य',\\\n",
    " 'literacy9a_ut_grid_8': 'dictation_letters: 8. व',\\\n",
    " 'literacy9a_ut_grid_9': 'dictation_letters: 9. भ',\\\n",
    " 'literacy9a_ut_grid_10': 'dictation_letters: 10. झ',\\\n",
    " 'literacy9a_ut_grid.number_of_items_correct': 'dictation_letters: number_of_items_correct',\\\n",
    " 'literacy9a_ut_grid.number_of_items_attempted': 'dictation_letters: number_of_items_attempted',\\\n",
    " 'literacy9a_ut_grid.gridAutoStopped': 'dictation_letters: gridAutoStopped',\\\n",
    " 'literacy9a_ut_grid.autoStop': 'dictation_letters: autoStop',\\\n",
    " 'literacy9b_ut_grid_1': 'dictation_words: 1. नल',\\\n",
    " 'literacy9b_ut_grid_2': 'dictation_words: 2. चख',\\\n",
    " 'literacy9b_ut_grid_3': 'dictation_words: 3. घर',\\\n",
    " 'literacy9b_ut_grid_4': 'dictation_words: 4. कम',\\\n",
    " 'literacy9b_ut_grid_5': 'dictation_words: 5. नाम',\\\n",
    " 'literacy9b_ut_grid_6': 'dictation_words: 6. चीनी',\\\n",
    " 'literacy9b_ut_grid_7': 'dictation_words: 7. कलम',\\\n",
    " 'literacy9b_ut_grid_8': 'dictation_words: 8. मचल',\\\n",
    " 'literacy9b_ut_grid_9': 'dictation_words: 9. दरी',\\\n",
    " 'literacy9b_ut_grid_10': 'dictation_words: 10. मकान',\\\n",
    " 'literacy9b_ut_grid.number_of_items_correct': 'dictation_words: number_of_items_correct',\\\n",
    " 'literacy9b_ut_grid.number_of_items_attempted': 'dictation_words: number_of_items_attempted',\\\n",
    " 'literacy9b_ut_grid.gridAutoStopped': 'dictation_words: gridAutoStopped',\\\n",
    " 'literacy9b_ut_grid.autoStop': 'dictation_words: autoStop',\\\n",
    " 'literacy9_end': 'dictation: end'}"
   ]
  },
  {
   "cell_type": "code",
   "execution_count": 34,
   "id": "8e58f1ad",
   "metadata": {},
   "outputs": [],
   "source": [
    "mp_raw_lit.rename(columns=cols_renamed, inplace=True)\n",
    "up_raw_lit.rename(columns=cols_renamed, inplace=True)"
   ]
  },
  {
   "cell_type": "code",
   "execution_count": 35,
   "id": "86c9eb65",
   "metadata": {},
   "outputs": [],
   "source": [
    "reordered_cols = [col for col in cols_renamed.values()]"
   ]
  },
  {
   "cell_type": "code",
   "execution_count": 36,
   "id": "84df2211",
   "metadata": {},
   "outputs": [],
   "source": [
    "mp_raw_lit = mp_raw_lit.loc[:, reordered_cols]\n",
    "up_raw_lit = up_raw_lit.loc[:, reordered_cols]"
   ]
  },
  {
   "cell_type": "code",
   "execution_count": 37,
   "id": "0638d739",
   "metadata": {},
   "outputs": [],
   "source": [
    "mp_grouped = mp_raw_lit.groupby('udise')['student_name'].count().to_frame('cluster_size')\n",
    "\n",
    "up_grouped = up_raw_lit.groupby('udise')['student_name'].count().to_frame('cluster_size')"
   ]
  },
  {
   "cell_type": "code",
   "execution_count": 38,
   "id": "6dcbddd3",
   "metadata": {},
   "outputs": [],
   "source": [
    "mp_included_udise = mp_grouped[mp_grouped.cluster_size >=3].index.to_list()\n",
    "mp_raw_lit_excluded = mp_raw_lit[~mp_raw_lit['udise'].isin(mp_included_udise)]\n",
    "\n",
    "up_included_udise = up_grouped[up_grouped.cluster_size >=5].index.to_list()\n",
    "up_raw_lit_excluded = up_raw_lit[~up_raw_lit['udise'].isin(up_included_udise)]"
   ]
  },
  {
   "cell_type": "code",
   "execution_count": 39,
   "id": "b3eb31cc",
   "metadata": {},
   "outputs": [],
   "source": [
    "mp_raw_lit = mp_raw_lit[mp_raw_lit['udise'].isin(mp_included_udise)]\n",
    "\n",
    "up_raw_lit = up_raw_lit[up_raw_lit['udise'].isin(up_included_udise)]"
   ]
  },
  {
   "cell_type": "code",
   "execution_count": 42,
   "id": "70d01d7b",
   "metadata": {},
   "outputs": [],
   "source": [
    "supervisors = ['Manohar', 'Jeevan', 'Vikram']\n",
    "\n",
    "mp_irr_filter = mp_raw_lit.duplicated(subset=['udise', 'student_name', 'student_roll'],keep=False)\n",
    "\n",
    "mp_irr_assessments = mp_raw_lit[mp_irr_filter & mp_raw_lit.evaluator_name.isin(supervisors)]\n",
    "\n",
    "mp_raw_lit.drop(labels=mp_irr_assessments.index, inplace=True)"
   ]
  },
  {
   "cell_type": "code",
   "execution_count": 45,
   "id": "91f9c811",
   "metadata": {
    "scrolled": true
   },
   "outputs": [],
   "source": [
    "up_supervisors = ['Ambrish', 'Ashfak', 'Hina', 'Prrmshankar', 'Saurabh', 'Kuldeep']\n",
    "\n",
    "up_irr_filter = up_raw_lit.duplicated(subset=['udise', 'student_name', 'student_roll'],keep=False)\n",
    "\n",
    "up_irr_assessments = up_raw_lit[up_irr_filter & up_raw_lit.evaluator_name.isin(up_supervisors)]\n",
    "\n",
    "up_raw_lit.drop(labels=up_irr_assessments.index, inplace=True)"
   ]
  },
  {
   "cell_type": "code",
   "execution_count": 52,
   "id": "0bbfbeb9",
   "metadata": {},
   "outputs": [],
   "source": [
    "with pd.ExcelWriter('mp_lit_cleaned_scored.xlsx') as writer:\n",
    "    mp_raw_lit.to_excel(writer, sheet_name='raw_data')\n",
    "    mp_lit_scores.to_excel(writer, sheet_name='total_scores')\n",
    "    mp_irr_assessments.to_excel(writer, sheet_name='irr_assessments')\n",
    "    mp_raw_lit_excluded.to_excel(writer, sheet_name='<3_cluster_size')"
   ]
  },
  {
   "cell_type": "code",
   "execution_count": 53,
   "id": "a2cc1cf4",
   "metadata": {},
   "outputs": [],
   "source": [
    "with pd.ExcelWriter('up_lit_cleaned_scored.xlsx') as writer:\n",
    "    up_raw_lit.to_excel(writer, sheet_name='raw_data')\n",
    "    up_lit_scores.to_excel(writer, sheet_name='total_scores')\n",
    "    up_irr_assessments.to_excel(writer, sheet_name='irr_assessments')\n",
    "    up_raw_lit_excluded.to_excel(writer, sheet_name='<5_cluster_size')"
   ]
  },
  {
   "cell_type": "code",
   "execution_count": 49,
   "id": "e79de7bd",
   "metadata": {},
   "outputs": [],
   "source": [
    "# for dataframe in [mp_raw_lit, up_raw_lit]:\n",
    "#     file_name = dataframe.name + '_cleaned_v2.xlsx'\n",
    "#     dataframe.loc[:, cols].to_excel(file_name)"
   ]
  },
  {
   "cell_type": "markdown",
   "id": "a69f76f6",
   "metadata": {},
   "source": [
    "<h2>\n",
    "    B. Numeracy Sub-tasks Data Cleaning\n",
    "</h2>"
   ]
  },
  {
   "cell_type": "markdown",
   "id": "9b151fc6",
   "metadata": {},
   "source": [
    "<h3>\n",
    "    Numeracy 1: Counting\n",
    "</h3>"
   ]
  },
  {
   "cell_type": "code",
   "execution_count": 50,
   "id": "75e66095",
   "metadata": {
    "scrolled": false
   },
   "outputs": [
    {
     "name": "stdout",
     "output_type": "stream",
     "text": [
      "\u001b[1mCleaning numeracy MP numeracy subtask 1 (timed) scores\u001b[0m\n"
     ]
    },
    {
     "ename": "NameError",
     "evalue": "name 'clean_scores' is not defined",
     "output_type": "error",
     "traceback": [
      "\u001b[0;31m---------------------------------------------------------------------------\u001b[0m",
      "\u001b[0;31mNameError\u001b[0m                                 Traceback (most recent call last)",
      "\u001b[0;32m/tmp/ipykernel_73015/1527322711.py\u001b[0m in \u001b[0;36m<module>\u001b[0;34m\u001b[0m\n\u001b[1;32m      3\u001b[0m     \u001b[0mnum1_raw\u001b[0m \u001b[0;34m=\u001b[0m \u001b[0;34m[\u001b[0m\u001b[0mcol\u001b[0m \u001b[0;32mfor\u001b[0m \u001b[0mcol\u001b[0m \u001b[0;32min\u001b[0m \u001b[0mdataframe\u001b[0m\u001b[0;34m.\u001b[0m\u001b[0mcolumns\u001b[0m \u001b[0;32mif\u001b[0m \u001b[0mre\u001b[0m\u001b[0;34m.\u001b[0m\u001b[0msearch\u001b[0m\u001b[0;34m(\u001b[0m\u001b[0;34mr'numeracy1_tt_grid_\\d*$'\u001b[0m\u001b[0;34m,\u001b[0m \u001b[0mcol\u001b[0m\u001b[0;34m)\u001b[0m\u001b[0;34m]\u001b[0m\u001b[0;34m\u001b[0m\u001b[0;34m\u001b[0m\u001b[0m\n\u001b[1;32m      4\u001b[0m     \u001b[0mprint\u001b[0m\u001b[0;34m(\u001b[0m\u001b[0;34mf'\\033[1mCleaning numeracy {dataframe.name} subtask 1 (timed) scores\\033[0m'\u001b[0m\u001b[0;34m)\u001b[0m\u001b[0;34m\u001b[0m\u001b[0;34m\u001b[0m\u001b[0m\n\u001b[0;32m----> 5\u001b[0;31m     \u001b[0mclean_scores\u001b[0m\u001b[0;34m(\u001b[0m\u001b[0mnum1_raw\u001b[0m\u001b[0;34m,\u001b[0m \u001b[0mdataframe\u001b[0m\u001b[0;34m)\u001b[0m\u001b[0;34m\u001b[0m\u001b[0;34m\u001b[0m\u001b[0m\n\u001b[0m\u001b[1;32m      6\u001b[0m     \u001b[0mdataframe\u001b[0m\u001b[0;34m.\u001b[0m\u001b[0mloc\u001b[0m\u001b[0;34m[\u001b[0m\u001b[0;34m:\u001b[0m\u001b[0;34m,\u001b[0m \u001b[0mnum1_raw\u001b[0m\u001b[0;34m]\u001b[0m \u001b[0;34m=\u001b[0m \u001b[0mpd\u001b[0m\u001b[0;34m.\u001b[0m\u001b[0mDataFrame\u001b[0m\u001b[0;34m(\u001b[0m\u001b[0;34m(\u001b[0m\u001b[0mdataframe\u001b[0m\u001b[0;34m.\u001b[0m\u001b[0mapply\u001b[0m\u001b[0;34m(\u001b[0m\u001b[0;32mlambda\u001b[0m \u001b[0mx\u001b[0m\u001b[0;34m:\u001b[0m \u001b[0mfix_counting_score\u001b[0m\u001b[0;34m(\u001b[0m\u001b[0;34m[\u001b[0m\u001b[0mx\u001b[0m\u001b[0;34m[\u001b[0m\u001b[0mcol\u001b[0m\u001b[0;34m]\u001b[0m \u001b[0;32mfor\u001b[0m \u001b[0mcol\u001b[0m \u001b[0;32min\u001b[0m \u001b[0mnum1_raw\u001b[0m\u001b[0;34m]\u001b[0m\u001b[0;34m)\u001b[0m\u001b[0;34m,\u001b[0m \u001b[0maxis\u001b[0m\u001b[0;34m=\u001b[0m\u001b[0;36m1\u001b[0m\u001b[0;34m)\u001b[0m\u001b[0;34m)\u001b[0m\u001b[0;34m.\u001b[0m\u001b[0mto_list\u001b[0m\u001b[0;34m(\u001b[0m\u001b[0;34m)\u001b[0m\u001b[0;34m,\u001b[0m \u001b[0mindex\u001b[0m\u001b[0;34m=\u001b[0m\u001b[0mdataframe\u001b[0m\u001b[0;34m.\u001b[0m\u001b[0mindex\u001b[0m\u001b[0;34m,\u001b[0m \u001b[0mcolumns\u001b[0m\u001b[0;34m=\u001b[0m\u001b[0mnum1_raw\u001b[0m\u001b[0;34m)\u001b[0m\u001b[0;34m\u001b[0m\u001b[0;34m\u001b[0m\u001b[0m\n\u001b[1;32m      7\u001b[0m \u001b[0;34m\u001b[0m\u001b[0m\n",
      "\u001b[0;31mNameError\u001b[0m: name 'clean_scores' is not defined"
     ]
    }
   ],
   "source": [
    "# Check data for'UNDEFINED' or 'SKIPPED' values\n",
    "for dataframe in [mp_raw_num, up_raw_num]:\n",
    "    num1_raw = [col for col in dataframe.columns if re.search(r'numeracy1_tt_grid_\\d*$', col)]\n",
    "    print(f'\\033[1mCleaning numeracy {dataframe.name} subtask 1 (timed) scores\\033[0m')\n",
    "    clean_scores(num1_raw, dataframe)\n",
    "    dataframe.loc[:, num1_raw] = pd.DataFrame((dataframe.apply(lambda x: fix_counting_score([x[col] for col in num1_raw]), axis=1)).to_list(), index=dataframe.index, columns=num1_raw)\n",
    "    \n",
    "#     dataframe.loc[:, 'literacy5_ut_total'] = dataframe.apply(lambda x: total_score([x[score] for score in lit5_ut_raw]), axis=1)"
   ]
  },
  {
   "cell_type": "markdown",
   "id": "cc53deca",
   "metadata": {},
   "source": [
    "<h3>\n",
    "    Numeracy 2: Number Recognition (Untimed)\n",
    "</h3>"
   ]
  },
  {
   "cell_type": "code",
   "execution_count": null,
   "id": "4deaeb5d",
   "metadata": {},
   "outputs": [],
   "source": [
    "# Check data for'UNDEFINED' or 'SKIPPED' values\n",
    "for dataframe in [mp_raw_num, up_raw_num]:\n",
    "    num2_ut_raw = [col for col in dataframe.columns if re.search(r'numeracy2_ut_grid_\\d*$', col)]\n",
    "    print(f'\\033[1mCleaning numeracy {dataframe.name} subtask 2 (untimed) scores\\033[0m')\n",
    "    clean_scores(num2_ut_raw, dataframe)\n",
    "    dataframe.loc[:, num2_ut_raw] = pd.DataFrame((dataframe.apply(lambda x: fix_score([x[col] for col in num2_ut_raw]), axis=1)).to_list(), index=dataframe.index, columns=num2_ut_raw)\n",
    "    \n",
    "    dataframe.loc[:, 'numeracy2_ut_total'] = dataframe.apply(lambda x: total_score([x[score] for score in num2_ut_raw]), axis=1)"
   ]
  },
  {
   "cell_type": "markdown",
   "id": "ff98a96a",
   "metadata": {},
   "source": [
    "<h3>\n",
    "    Numeracy 2: Number Recognition (Timed)\n",
    "</h3>"
   ]
  },
  {
   "cell_type": "code",
   "execution_count": null,
   "id": "2c6c5b91",
   "metadata": {},
   "outputs": [],
   "source": [
    "# Check data for'UNDEFINED' or 'SKIPPED' values\n",
    "for dataframe in [mp_raw_num, up_raw_num]:\n",
    "    num2_ut_raw = [col for col in dataframe.columns if re.search(r'numeracy2_ut_grid_\\d*$', col)]\n",
    "    print(f'\\033[1mCleaning numeracy {dataframe.name} subtask 2 (untimed) scores\\033[0m')\n",
    "    clean_scores(num2_ut_raw, dataframe)\n",
    "    dataframe.loc[:, num2_ut_raw] = pd.DataFrame((dataframe.apply(lambda x: fix_score([x[col] for col in num2_ut_raw]), axis=1)).to_list(), index=dataframe.index, columns=num2_ut_raw)\n",
    "    \n",
    "    dataframe.loc[:, 'numeracy2_ut_total'] = dataframe.apply(lambda x: total_score([x[score] for score in num2_ut_raw]), axis=1)\n",
    "numeracy2_tt_raw = [col for col in numeracy2_tt if re.search(r'numeracy2_tt_grid_', col)]\n"
   ]
  },
  {
   "cell_type": "code",
   "execution_count": null,
   "id": "a01dcc96",
   "metadata": {},
   "outputs": [],
   "source": [
    "mp_numeracy.loc[:, numeracy2_tt_raw] = pd.DataFrame((mp_numeracy.apply(lambda x: fix_score([x[col] for col in numeracy2_tt_raw]), axis=1)).to_list(), index=mp_numeracy.index, columns=numeracy2_tt_raw)"
   ]
  },
  {
   "cell_type": "markdown",
   "id": "f0801fb9",
   "metadata": {},
   "source": [
    "<h3>\n",
    "    Numeracy 3: Number Comparison\n",
    "</h3>"
   ]
  },
  {
   "cell_type": "code",
   "execution_count": null,
   "id": "19d6aa3a",
   "metadata": {},
   "outputs": [],
   "source": [
    "# Check data for'UNDEFINED' or 'SKIPPED' values\n",
    "for col in numeracy3:\n",
    "    print(f\"Unique values in {col} = {mp_numeracy[col].unique()}\")\n",
    "    print(f\"No. of NaN values in {col} = {mp_numeracy.loc[:, col].isna().sum()}\")\n",
    "    print(f\"No. of UNDEFINED values in {col} = {mp_numeracy[mp_numeracy[col] == 'UNDEFINED'].shape[0]}\")    \n",
    "    print(f\"No. of SKIPPED values in {col} = {mp_numeracy[mp_numeracy[col] == 'SKIPPED'].shape[0]}\\n\")\n",
    "    mp_numeracy.loc[:, col].fillna('999', inplace=True)\n",
    "    mp_numeracy[col].replace('UNDEFINED', '999', inplace=True)\n",
    "    mp_numeracy[col].replace('SKIPPED', '999', inplace=True)\n",
    "    mp_numeracy[col].replace('.', '999', inplace=True)\n",
    "    mp_numeracy.loc[:, col] = mp_numeracy.loc[:, col].astype('str')"
   ]
  },
  {
   "cell_type": "markdown",
   "id": "c17f16b9",
   "metadata": {},
   "source": [
    "<h3>\n",
    "    Numeracy 4: Counting in Bundles\n",
    "</h3>"
   ]
  },
  {
   "cell_type": "code",
   "execution_count": null,
   "id": "135f915b",
   "metadata": {},
   "outputs": [],
   "source": [
    "# Check data for'UNDEFINED' or 'SKIPPED' values\n",
    "numeracy4_raw = [col for col in numeracy4 if re.search(r'numeracy4.+\\d$', col)]\n",
    "for col in numeracy4_raw:\n",
    "    print(f\"Unique values in {col} = {mp_numeracy[col].unique()}\")\n",
    "    print(f\"No. of NaN values in {col} = {mp_numeracy.loc[:, col].isna().sum()}\")\n",
    "    print(f\"No. of UNDEFINED values in {col} = {mp_numeracy[mp_numeracy[col] == 'UNDEFINED'].shape[0]}\")    \n",
    "    print(f\"No. of SKIPPED values in {col} = {mp_numeracy[mp_numeracy[col] == 'SKIPPED'].shape[0]}\\n\")\n",
    "    mp_numeracy.loc[:, col].fillna('999', inplace=True)\n",
    "    mp_numeracy[col].replace('UNDEFINED', '999', inplace=True)\n",
    "    mp_numeracy[col].replace('SKIPPED', '999', inplace=True)\n",
    "    mp_numeracy[col].replace('.', '999', inplace=True)\n",
    "    mp_numeracy.loc[:, col] = mp_numeracy.loc[:, col].astype('str')"
   ]
  },
  {
   "cell_type": "markdown",
   "id": "de768162",
   "metadata": {},
   "source": [
    "<h3>\n",
    "    Numeracy 5: Missing Numbers\n",
    "</h3>"
   ]
  },
  {
   "cell_type": "code",
   "execution_count": null,
   "id": "3e4cf44e",
   "metadata": {},
   "outputs": [],
   "source": [
    "# Check data for'UNDEFINED' or 'SKIPPED' values\n",
    "numeracy5_raw = [col for col in numeracy5 if re.search(r'numeracy5.+\\d$', col)]\n",
    "for col in numeracy5_raw:\n",
    "    print(f\"Unique values in {col} = {mp_numeracy[col].unique()}\")\n",
    "    print(f\"No. of NaN values in {col} = {mp_numeracy.loc[:, col].isna().sum()}\")\n",
    "    print(f\"No. of UNDEFINED values in {col} = {mp_numeracy[mp_numeracy[col] == 'UNDEFINED'].shape[0]}\")    \n",
    "    print(f\"No. of SKIPPED values in {col} = {mp_numeracy[mp_numeracy[col] == 'SKIPPED'].shape[0]}\\n\")\n",
    "    mp_numeracy.loc[:, col].fillna('999', inplace=True)\n",
    "    mp_numeracy[col].replace('UNDEFINED', '999', inplace=True)\n",
    "    mp_numeracy[col].replace('SKIPPED', '999', inplace=True)\n",
    "    mp_numeracy[col].replace('.', '999', inplace=True)\n",
    "    mp_numeracy.loc[:, col] = mp_numeracy.loc[:, col].astype('str')"
   ]
  },
  {
   "cell_type": "markdown",
   "id": "46d2de4f",
   "metadata": {},
   "source": [
    "<h3>\n",
    "    Numeracy 6: Addition\n",
    "</h3>"
   ]
  },
  {
   "cell_type": "code",
   "execution_count": null,
   "id": "a0af6b33",
   "metadata": {},
   "outputs": [],
   "source": [
    "# Check data for'UNDEFINED' or 'SKIPPED' values\n",
    "numeracy6_raw = [col for col in numeracy6 if re.search(r'numeracy6.+\\d$', col)]\n",
    "for col in numeracy6_raw:\n",
    "    print(f\"Unique values in {col} = {mp_numeracy[col].unique()}\")\n",
    "    print(f\"No. of NaN values in {col} = {mp_numeracy.loc[:, col].isna().sum()}\")\n",
    "    print(f\"No. of UNDEFINED values in {col} = {mp_numeracy[mp_numeracy[col] == 'UNDEFINED'].shape[0]}\")    \n",
    "    print(f\"No. of SKIPPED values in {col} = {mp_numeracy[mp_numeracy[col] == 'SKIPPED'].shape[0]}\\n\")\n",
    "    mp_numeracy.loc[:, col].fillna('999', inplace=True)\n",
    "    mp_numeracy[col].replace('UNDEFINED', '999', inplace=True)\n",
    "    mp_numeracy[col].replace('SKIPPED', '999', inplace=True)\n",
    "    mp_numeracy[col].replace('.', '999', inplace=True)\n",
    "    mp_numeracy.loc[:, col] = mp_numeracy.loc[:, col].astype('str')"
   ]
  },
  {
   "cell_type": "markdown",
   "id": "72883832",
   "metadata": {},
   "source": [
    "<h3>\n",
    "    Numeracy 7: Subtraction\n",
    "</h3>"
   ]
  },
  {
   "cell_type": "code",
   "execution_count": null,
   "id": "edec0e71",
   "metadata": {},
   "outputs": [],
   "source": [
    "# Check data for'UNDEFINED' or 'SKIPPED' values\n",
    "numeracy7_raw = [col for col in numeracy7 if re.search(r'numeracy7.+\\d$', col)]\n",
    "for col in numeracy7_raw:\n",
    "    print(f\"Unique values in {col} = {mp_numeracy[col].unique()}\")\n",
    "    print(f\"No. of NaN values in {col} = {mp_numeracy.loc[:, col].isna().sum()}\")\n",
    "    print(f\"No. of UNDEFINED values in {col} = {mp_numeracy[mp_numeracy[col] == 'UNDEFINED'].shape[0]}\")    \n",
    "    print(f\"No. of SKIPPED values in {col} = {mp_numeracy[mp_numeracy[col] == 'SKIPPED'].shape[0]}\\n\")\n",
    "    mp_numeracy.loc[:, col].fillna('999', inplace=True)\n",
    "    mp_numeracy[col].replace('UNDEFINED', '999', inplace=True)\n",
    "    mp_numeracy[col].replace('SKIPPED', '999', inplace=True)\n",
    "    mp_numeracy[col].replace('.', '999', inplace=True)\n",
    "    mp_numeracy.loc[:, col] = mp_numeracy.loc[:, col].astype('str')"
   ]
  },
  {
   "cell_type": "markdown",
   "id": "50ab73d3",
   "metadata": {},
   "source": [
    "<h3>\n",
    "    Numeracy 8: Word Problems\n",
    "</h3>"
   ]
  },
  {
   "cell_type": "code",
   "execution_count": null,
   "id": "448ec807",
   "metadata": {},
   "outputs": [],
   "source": [
    "# Check data for'UNDEFINED' or 'SKIPPED' values\n",
    "numeracy8_raw = [col for col in numeracy8 if re.search(r'numeracy8.+\\d$', col)]\n",
    "for col in numeracy8_raw:\n",
    "    print(f\"Unique values in {col} = {mp_numeracy[col].unique()}\")\n",
    "    print(f\"No. of NaN values in {col} = {mp_numeracy.loc[:, col].isna().sum()}\")\n",
    "    print(f\"No. of UNDEFINED values in {col} = {mp_numeracy[mp_numeracy[col] == 'UNDEFINED'].shape[0]}\")    \n",
    "    print(f\"No. of SKIPPED values in {col} = {mp_numeracy[mp_numeracy[col] == 'SKIPPED'].shape[0]}\\n\")\n",
    "    mp_numeracy.loc[:, col].fillna('999', inplace=True)\n",
    "    mp_numeracy[col].replace('UNDEFINED', '999', inplace=True)\n",
    "    mp_numeracy[col].replace('SKIPPED', '999', inplace=True)\n",
    "    mp_numeracy[col].replace('.', '999', inplace=True)\n",
    "    mp_numeracy.loc[:, col] = mp_numeracy.loc[:, col].astype('str')"
   ]
  },
  {
   "cell_type": "markdown",
   "id": "4800add3",
   "metadata": {},
   "source": [
    "<h3>\n",
    "    Numeracy 9a: Shape Recognition (Circle)\n",
    "</h3>"
   ]
  },
  {
   "cell_type": "code",
   "execution_count": null,
   "id": "ffee6f29",
   "metadata": {},
   "outputs": [],
   "source": [
    "# Check data for'UNDEFINED' or 'SKIPPED' values\n",
    "numeracy9a_raw = [col for col in numeracy9a if re.search(r'numeracy9a_ut_grid_', col)]\n",
    "for col in numeracy9a_raw:\n",
    "    print(f\"Unique values in {col} = {mp_numeracy[col].unique()}\")\n",
    "    print(f\"No. of NaN values in {col} = {mp_numeracy.loc[:, col].isna().sum()}\")\n",
    "    print(f\"No. of UNDEFINED values in {col} = {mp_numeracy[mp_numeracy[col] == 'UNDEFINED'].shape[0]}\")    \n",
    "    print(f\"No. of SKIPPED values in {col} = {mp_numeracy[mp_numeracy[col] == 'SKIPPED'].shape[0]}\\n\")\n",
    "    mp_numeracy[col].replace('UNDEFINED', '0', inplace=True)\n",
    "    mp_numeracy.loc[:, col] = mp_numeracy.loc[:, col].astype('str')"
   ]
  },
  {
   "cell_type": "markdown",
   "id": "5ba6fb97",
   "metadata": {},
   "source": [
    "<h3>\n",
    "    Numeracy 9b: Shape Recognition (Rectangle)\n",
    "</h3>"
   ]
  },
  {
   "cell_type": "code",
   "execution_count": null,
   "id": "0a0f1e88",
   "metadata": {},
   "outputs": [],
   "source": [
    "# Check data for'UNDEFINED' or 'SKIPPED' values\n",
    "numeracy9b_raw = [col for col in numeracy9b if re.search(r'numeracy9b_ut_grid_', col)]\n",
    "for col in numeracy9b_raw:\n",
    "    print(f\"Unique values in {col} = {mp_numeracy[col].unique()}\")\n",
    "    print(f\"No. of NaN values in {col} = {mp_numeracy.loc[:, col].isna().sum()}\")\n",
    "    print(f\"No. of UNDEFINED values in {col} = {mp_numeracy[mp_numeracy[col] == 'UNDEFINED'].shape[0]}\")    \n",
    "    print(f\"No. of SKIPPED values in {col} = {mp_numeracy[mp_numeracy[col] == 'SKIPPED'].shape[0]}\\n\")\n",
    "    mp_numeracy[col].replace('UNDEFINED', '0', inplace=True)\n",
    "    mp_numeracy.loc[:, col] = mp_numeracy.loc[:, col].astype('str')"
   ]
  },
  {
   "cell_type": "code",
   "execution_count": null,
   "id": "8eb3ba97",
   "metadata": {},
   "outputs": [],
   "source": [
    "mp_numeracy.to_excel(\"mp_raw_numeracy_full.xlsx\")"
   ]
  },
  {
   "cell_type": "code",
   "execution_count": null,
   "id": "34c9590b",
   "metadata": {},
   "outputs": [],
   "source": []
  },
  {
   "cell_type": "code",
   "execution_count": null,
   "id": "8902e132",
   "metadata": {},
   "outputs": [],
   "source": []
  }
 ],
 "metadata": {
  "kernelspec": {
   "display_name": "Python 3 (ipykernel)",
   "language": "python",
   "name": "python3"
  },
  "language_info": {
   "codemirror_mode": {
    "name": "ipython",
    "version": 3
   },
   "file_extension": ".py",
   "mimetype": "text/x-python",
   "name": "python",
   "nbconvert_exporter": "python",
   "pygments_lexer": "ipython3",
   "version": "3.9.7"
  }
 },
 "nbformat": 4,
 "nbformat_minor": 5
}
